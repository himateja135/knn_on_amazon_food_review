{
 "cells": [
  {
   "cell_type": "markdown",
   "metadata": {},
   "source": [
    "# objective :\n",
    "<br>Applying knn to classify the amazon food reviews."
   ]
  },
  {
   "cell_type": "code",
   "execution_count": 152,
   "metadata": {},
   "outputs": [],
   "source": [
    "import sqlite3 as s\n",
    "import pandas as pd\n",
    "import matplotlib.pyplot as plt\n",
    "import seaborn as sns\n",
    "import numpy as np\n",
    "from sklearn.neighbors import KNeighborsClassifier\n",
    "from sklearn.cross_validation import train_test_split\n",
    "from sklearn.cross_validation import cross_val_score\n",
    "from sklearn.metrics import accuracy_score\n"
   ]
  },
  {
   "cell_type": "code",
   "execution_count": 153,
   "metadata": {},
   "outputs": [
    {
     "data": {
      "text/plain": [
       "<sqlite3.Connection at 0x12855a4d490>"
      ]
     },
     "execution_count": 153,
     "metadata": {},
     "output_type": "execute_result"
    }
   ],
   "source": [
    "con=s.connect(\"database.sqlite\")\n",
    "con"
   ]
  },
  {
   "cell_type": "code",
   "execution_count": 154,
   "metadata": {},
   "outputs": [
    {
     "data": {
      "text/html": [
       "<div>\n",
       "<style scoped>\n",
       "    .dataframe tbody tr th:only-of-type {\n",
       "        vertical-align: middle;\n",
       "    }\n",
       "\n",
       "    .dataframe tbody tr th {\n",
       "        vertical-align: top;\n",
       "    }\n",
       "\n",
       "    .dataframe thead th {\n",
       "        text-align: right;\n",
       "    }\n",
       "</style>\n",
       "<table border=\"1\" class=\"dataframe\">\n",
       "  <thead>\n",
       "    <tr style=\"text-align: right;\">\n",
       "      <th></th>\n",
       "      <th>Id</th>\n",
       "      <th>ProductId</th>\n",
       "      <th>UserId</th>\n",
       "      <th>ProfileName</th>\n",
       "      <th>HelpfulnessNumerator</th>\n",
       "      <th>HelpfulnessDenominator</th>\n",
       "      <th>Score</th>\n",
       "      <th>Time</th>\n",
       "      <th>Summary</th>\n",
       "      <th>Text</th>\n",
       "    </tr>\n",
       "  </thead>\n",
       "  <tbody>\n",
       "    <tr>\n",
       "      <th>0</th>\n",
       "      <td>1</td>\n",
       "      <td>B001E4KFG0</td>\n",
       "      <td>A3SGXH7AUHU8GW</td>\n",
       "      <td>delmartian</td>\n",
       "      <td>1</td>\n",
       "      <td>1</td>\n",
       "      <td>5</td>\n",
       "      <td>1303862400</td>\n",
       "      <td>Good Quality Dog Food</td>\n",
       "      <td>I have bought several of the Vitality canned d...</td>\n",
       "    </tr>\n",
       "    <tr>\n",
       "      <th>1</th>\n",
       "      <td>2</td>\n",
       "      <td>B00813GRG4</td>\n",
       "      <td>A1D87F6ZCVE5NK</td>\n",
       "      <td>dll pa</td>\n",
       "      <td>0</td>\n",
       "      <td>0</td>\n",
       "      <td>1</td>\n",
       "      <td>1346976000</td>\n",
       "      <td>Not as Advertised</td>\n",
       "      <td>Product arrived labeled as Jumbo Salted Peanut...</td>\n",
       "    </tr>\n",
       "    <tr>\n",
       "      <th>2</th>\n",
       "      <td>3</td>\n",
       "      <td>B000LQOCH0</td>\n",
       "      <td>ABXLMWJIXXAIN</td>\n",
       "      <td>Natalia Corres \"Natalia Corres\"</td>\n",
       "      <td>1</td>\n",
       "      <td>1</td>\n",
       "      <td>4</td>\n",
       "      <td>1219017600</td>\n",
       "      <td>\"Delight\" says it all</td>\n",
       "      <td>This is a confection that has been around a fe...</td>\n",
       "    </tr>\n",
       "    <tr>\n",
       "      <th>3</th>\n",
       "      <td>4</td>\n",
       "      <td>B000UA0QIQ</td>\n",
       "      <td>A395BORC6FGVXV</td>\n",
       "      <td>Karl</td>\n",
       "      <td>3</td>\n",
       "      <td>3</td>\n",
       "      <td>2</td>\n",
       "      <td>1307923200</td>\n",
       "      <td>Cough Medicine</td>\n",
       "      <td>If you are looking for the secret ingredient i...</td>\n",
       "    </tr>\n",
       "    <tr>\n",
       "      <th>4</th>\n",
       "      <td>5</td>\n",
       "      <td>B006K2ZZ7K</td>\n",
       "      <td>A1UQRSCLF8GW1T</td>\n",
       "      <td>Michael D. Bigham \"M. Wassir\"</td>\n",
       "      <td>0</td>\n",
       "      <td>0</td>\n",
       "      <td>5</td>\n",
       "      <td>1350777600</td>\n",
       "      <td>Great taffy</td>\n",
       "      <td>Great taffy at a great price.  There was a wid...</td>\n",
       "    </tr>\n",
       "  </tbody>\n",
       "</table>\n",
       "</div>"
      ],
      "text/plain": [
       "   Id   ProductId          UserId                      ProfileName  \\\n",
       "0   1  B001E4KFG0  A3SGXH7AUHU8GW                       delmartian   \n",
       "1   2  B00813GRG4  A1D87F6ZCVE5NK                           dll pa   \n",
       "2   3  B000LQOCH0   ABXLMWJIXXAIN  Natalia Corres \"Natalia Corres\"   \n",
       "3   4  B000UA0QIQ  A395BORC6FGVXV                             Karl   \n",
       "4   5  B006K2ZZ7K  A1UQRSCLF8GW1T    Michael D. Bigham \"M. Wassir\"   \n",
       "\n",
       "   HelpfulnessNumerator  HelpfulnessDenominator  Score        Time  \\\n",
       "0                     1                       1      5  1303862400   \n",
       "1                     0                       0      1  1346976000   \n",
       "2                     1                       1      4  1219017600   \n",
       "3                     3                       3      2  1307923200   \n",
       "4                     0                       0      5  1350777600   \n",
       "\n",
       "                 Summary                                               Text  \n",
       "0  Good Quality Dog Food  I have bought several of the Vitality canned d...  \n",
       "1      Not as Advertised  Product arrived labeled as Jumbo Salted Peanut...  \n",
       "2  \"Delight\" says it all  This is a confection that has been around a fe...  \n",
       "3         Cough Medicine  If you are looking for the secret ingredient i...  \n",
       "4            Great taffy  Great taffy at a great price.  There was a wid...  "
      ]
     },
     "execution_count": 154,
     "metadata": {},
     "output_type": "execute_result"
    }
   ],
   "source": [
    "data=pd.read_sql_query(\"SELECT * FROM Reviews WHERE Score!=3\",con)\n",
    "data.head(5)"
   ]
  },
  {
   "cell_type": "code",
   "execution_count": 155,
   "metadata": {},
   "outputs": [],
   "source": [
    "#function to change the score to positive/negative\n",
    "def change(x):\n",
    "    if x<3:\n",
    "        return 'negative'\n",
    "    else:\n",
    "        return 'positive'"
   ]
  },
  {
   "cell_type": "code",
   "execution_count": 156,
   "metadata": {},
   "outputs": [
    {
     "data": {
      "text/plain": [
       "0    positive\n",
       "1    negative\n",
       "2    positive\n",
       "3    negative\n",
       "4    positive\n",
       "Name: Score, dtype: object"
      ]
     },
     "execution_count": 156,
     "metadata": {},
     "output_type": "execute_result"
    }
   ],
   "source": [
    "a_s=data.Score\n",
    "a_s=a_s.map(change)\n",
    "data.Score=a_s\n",
    "data.Score.head(5)"
   ]
  },
  {
   "cell_type": "markdown",
   "metadata": {},
   "source": [
    "# Data cleaning"
   ]
  },
  {
   "cell_type": "markdown",
   "metadata": {},
   "source": [
    "The data needs to get clean as it may have some unwanted things such as duplicates."
   ]
  },
  {
   "cell_type": "code",
   "execution_count": 157,
   "metadata": {},
   "outputs": [],
   "source": [
    "#sorting the values by product ids\n",
    "data=data.sort_values(\"ProductId\")"
   ]
  },
  {
   "cell_type": "code",
   "execution_count": 158,
   "metadata": {},
   "outputs": [],
   "source": [
    "#removing the duplicates from the data\n",
    "final_data=data.drop_duplicates(subset={\"UserId\",\"Text\",\"ProfileName\",\"Time\"},keep=\"first\",inplace=False)"
   ]
  },
  {
   "cell_type": "code",
   "execution_count": 159,
   "metadata": {},
   "outputs": [
    {
     "name": "stdout",
     "output_type": "stream",
     "text": [
      "(364173, 10)\n",
      "positive    307063\n",
      "negative     57110\n",
      "Name: Score, dtype: int64\n"
     ]
    }
   ],
   "source": [
    "print(final_data.shape)\n",
    "print(final_data.Score.value_counts())"
   ]
  },
  {
   "cell_type": "code",
   "execution_count": 160,
   "metadata": {},
   "outputs": [],
   "source": [
    "p_data=final_data[final_data.Score==\"positive\"]\n",
    "n_data=final_data[final_data.Score==\"negative\"]"
   ]
  },
  {
   "cell_type": "code",
   "execution_count": 161,
   "metadata": {},
   "outputs": [],
   "source": [
    "#randomly selecting points\n",
    "p_data=p_data.sample(17000)\n",
    "n_data=n_data.sample(3000)"
   ]
  },
  {
   "cell_type": "code",
   "execution_count": 162,
   "metadata": {},
   "outputs": [
    {
     "name": "stdout",
     "output_type": "stream",
     "text": [
      "(17000, 10) (3000, 10)\n"
     ]
    }
   ],
   "source": [
    "print(p_data.shape,n_data.shape)"
   ]
  },
  {
   "cell_type": "code",
   "execution_count": 163,
   "metadata": {},
   "outputs": [],
   "source": [
    "d=pd.concat((p_data,n_data))"
   ]
  },
  {
   "cell_type": "code",
   "execution_count": 165,
   "metadata": {},
   "outputs": [
    {
     "data": {
      "text/plain": [
       "(20000, 10)"
      ]
     },
     "execution_count": 165,
     "metadata": {},
     "output_type": "execute_result"
    }
   ],
   "source": [
    "d.shape"
   ]
  },
  {
   "cell_type": "code",
   "execution_count": 305,
   "metadata": {},
   "outputs": [],
   "source": [
    "#sorting according to time stamp\n",
    "d=d.sort_values('Time')"
   ]
  },
  {
   "cell_type": "code",
   "execution_count": 306,
   "metadata": {},
   "outputs": [
    {
     "data": {
      "text/plain": [
       "positive    17000\n",
       "negative     3000\n",
       "Name: Score, dtype: int64"
      ]
     },
     "execution_count": 306,
     "metadata": {},
     "output_type": "execute_result"
    }
   ],
   "source": [
    "d.Score.value_counts()"
   ]
  },
  {
   "cell_type": "markdown",
   "metadata": {},
   "source": [
    "# Data preprocessing"
   ]
  },
  {
   "cell_type": "markdown",
   "metadata": {},
   "source": [
    "The data should be preprocessed after cleaning it"
   ]
  },
  {
   "cell_type": "code",
   "execution_count": 167,
   "metadata": {},
   "outputs": [],
   "source": [
    "import string \n",
    "from nltk.corpus import stopwords\n",
    "from nltk.stem import SnowballStemmer\n",
    "import re"
   ]
  },
  {
   "cell_type": "code",
   "execution_count": 168,
   "metadata": {},
   "outputs": [],
   "source": [
    "#stopwords\n",
    "stop_words=set(stopwords.words(\"english\"))\n",
    "#initializing snowball stemmer\n",
    "sno=SnowballStemmer(\"english\")"
   ]
  },
  {
   "cell_type": "code",
   "execution_count": 169,
   "metadata": {},
   "outputs": [],
   "source": [
    "#function to remove html tags\n",
    "def cleanhtml(s):\n",
    "    cleanr=re.compile(\"<.*?>\")\n",
    "    cleant=re.sub(cleanr,\" \",s)\n",
    "    return cleant"
   ]
  },
  {
   "cell_type": "code",
   "execution_count": 170,
   "metadata": {},
   "outputs": [],
   "source": [
    "#funtion to remove punctuation and special character\n",
    "def cleanpunc(s): \n",
    "    cleaned = re.sub(r'[?|!|\\'|\"|#]',r'',s)\n",
    "    cleaned = re.sub(r'[.|,|)|(|\\|/]',r' ',cleaned)\n",
    "    return  cleaned\n"
   ]
  },
  {
   "cell_type": "code",
   "execution_count": 171,
   "metadata": {},
   "outputs": [],
   "source": [
    "i=0\n",
    "final=[]\n",
    "\n",
    "for s in d.Text.values:\n",
    "    f=[]\n",
    "    c=cleanhtml(s)\n",
    "    for w in cleanpunc(c).split():\n",
    "        if w.isalpha() and len(w)>2:\n",
    "            if w not in stop_words:\n",
    "                sne=(sno.stem(w.lower())).encode('utf-8')\n",
    "                f.append(sne)\n",
    "               \n",
    "            else:\n",
    "                continue\n",
    "        else:\n",
    "            continue\n",
    "    te=b\" \".join(f)\n",
    "    final.append(te)\n",
    "    i+=1"
   ]
  },
  {
   "cell_type": "code",
   "execution_count": 172,
   "metadata": {},
   "outputs": [],
   "source": [
    "#adding the preprocessed data into another column\n",
    "d[\"cleaned\"]=final"
   ]
  },
  {
   "cell_type": "code",
   "execution_count": 173,
   "metadata": {},
   "outputs": [
    {
     "data": {
      "text/plain": [
       "Index(['Id', 'ProductId', 'UserId', 'ProfileName', 'HelpfulnessNumerator',\n",
       "       'HelpfulnessDenominator', 'Score', 'Time', 'Summary', 'Text',\n",
       "       'cleaned'],\n",
       "      dtype='object')"
      ]
     },
     "execution_count": 173,
     "metadata": {},
     "output_type": "execute_result"
    }
   ],
   "source": [
    "#checking if new column is added\n",
    "d.columns"
   ]
  },
  {
   "cell_type": "code",
   "execution_count": 174,
   "metadata": {},
   "outputs": [],
   "source": [
    "import sqlite3\n",
    "conn=sqlite3.connect(\"future.sqlite\")\n",
    "c=conn.cursor()\n",
    "conn.text_factory=str\n",
    "d.to_sql('Reviews',conn,if_exists='replace',index=True)"
   ]
  },
  {
   "cell_type": "markdown",
   "metadata": {},
   "source": [
    "# Bag of words"
   ]
  },
  {
   "cell_type": "code",
   "execution_count": 259,
   "metadata": {},
   "outputs": [],
   "source": [
    "from sklearn.feature_extraction.text import CountVectorizer"
   ]
  },
  {
   "cell_type": "code",
   "execution_count": 260,
   "metadata": {},
   "outputs": [],
   "source": [
    "#bigrams\n",
    "count_vect=CountVectorizer(ngram_range=(1,2))"
   ]
  },
  {
   "cell_type": "code",
   "execution_count": 261,
   "metadata": {},
   "outputs": [],
   "source": [
    "bdata=count_vect.fit_transform(d.cleaned.values)"
   ]
  },
  {
   "cell_type": "code",
   "execution_count": 262,
   "metadata": {},
   "outputs": [],
   "source": [
    "x=bdata\n",
    "y=d.Score"
   ]
  },
  {
   "cell_type": "code",
   "execution_count": 263,
   "metadata": {},
   "outputs": [],
   "source": [
    "x_1, x_test, y_1, y_test = train_test_split(x, y, test_size=0.3, random_state=0)\n",
    "\n",
    "x_tr, x_cv, y_tr, y_cv = train_test_split(x_1, y_1, test_size=0.3)"
   ]
  },
  {
   "cell_type": "code",
   "execution_count": 264,
   "metadata": {},
   "outputs": [
    {
     "data": {
      "text/plain": [
       "(4200, 408862)"
      ]
     },
     "execution_count": 264,
     "metadata": {},
     "output_type": "execute_result"
    }
   ],
   "source": [
    "x_cv.shape"
   ]
  },
  {
   "cell_type": "code",
   "execution_count": 266,
   "metadata": {},
   "outputs": [],
   "source": [
    "#list of different k\n",
    "neighbors=list(range(1,50,2))"
   ]
  },
  {
   "cell_type": "markdown",
   "metadata": {},
   "source": [
    "I have used two ways to find k <br>1. cross_val_score <br>2. gridsearchcv"
   ]
  },
  {
   "cell_type": "code",
   "execution_count": 267,
   "metadata": {},
   "outputs": [
    {
     "name": "stdout",
     "output_type": "stream",
     "text": [
      "[0.8366443031712917, 0.8476446627560232, 0.8515000206632758, 0.8519288473033477, 0.8525001231414622, 0.8525715007288998, 0.8525001741254533, 0.8522858372814038, 0.8523573169097098, 0.8523572658528323, 0.8523572658528323, 0.8522857862245263, 0.8523572658528323, 0.8522857862245263, 0.8522857862245263, 0.8522857862245263, 0.8522857862245263, 0.8522857862245263, 0.8522857862245263, 0.8522857862245263, 0.8522857862245263, 0.8522857862245263, 0.8522857862245263, 0.8522857862245263, 0.8522857862245263]\n"
     ]
    }
   ],
   "source": [
    "#cross_val_score\n",
    "cv_scores=[]\n",
    "for k in neighbors:\n",
    "    knn=KNeighborsClassifier(n_neighbors=k,algorithm='brute')\n",
    "    scores=cross_val_score(knn,x_1,y_1,cv=10,scoring=\"accuracy\")\n",
    "    cv_scores.append(scores.mean())\n",
    "print(cv_scores)\n",
    "    "
   ]
  },
  {
   "cell_type": "markdown",
   "metadata": {},
   "source": [
    "we have calculated the accuracy score for different k values,now we find error i.e is nothing but 1-accuracy"
   ]
  },
  {
   "cell_type": "code",
   "execution_count": 268,
   "metadata": {},
   "outputs": [
    {
     "name": "stdout",
     "output_type": "stream",
     "text": [
      "[0.16335569682870832, 0.15235533724397676, 0.1484999793367242, 0.14807115269665228, 0.14749987685853783, 0.14742849927110024, 0.1474998258745467, 0.14771416271859616, 0.14764268309029016, 0.14764273414716766, 0.14764273414716766, 0.14771421377547367, 0.14764273414716766, 0.14771421377547367, 0.14771421377547367, 0.14771421377547367, 0.14771421377547367, 0.14771421377547367, 0.14771421377547367, 0.14771421377547367, 0.14771421377547367, 0.14771421377547367, 0.14771421377547367, 0.14771421377547367, 0.14771421377547367]\n"
     ]
    }
   ],
   "source": [
    "#calculating error\n",
    "error=[1-x for x in cv_scores]\n",
    "print(error)"
   ]
  },
  {
   "cell_type": "code",
   "execution_count": 269,
   "metadata": {},
   "outputs": [
    {
     "name": "stdout",
     "output_type": "stream",
     "text": [
      "11\n"
     ]
    }
   ],
   "source": [
    "#finding the k with least error\n",
    "optimal_k=neighbors[error.index(min(error))]\n",
    "print(optimal_k)"
   ]
  },
  {
   "cell_type": "markdown",
   "metadata": {},
   "source": [
    "performance can be measured in different methods ,i am using accuracy and confusion matrix"
   ]
  },
  {
   "cell_type": "code",
   "execution_count": 271,
   "metadata": {},
   "outputs": [
    {
     "name": "stdout",
     "output_type": "stream",
     "text": [
      "\n",
      "The accuracy of the knn classifier for k = 11 is 84.583333%\n"
     ]
    }
   ],
   "source": [
    "#accuracy\n",
    "knn=KNeighborsClassifier(n_neighbors=optimal_k)\n",
    "knn.fit(x_1,y_1)\n",
    "pred=knn.predict(x_test)\n",
    "acc = accuracy_score(y_test, pred) * 100\n",
    "print('\\nThe accuracy of the knn classifier for k = %d is %f%%' % (optimal_k, acc))"
   ]
  },
  {
   "cell_type": "code",
   "execution_count": 272,
   "metadata": {},
   "outputs": [
    {
     "data": {
      "text/plain": [
       "<matplotlib.axes._subplots.AxesSubplot at 0x12814621358>"
      ]
     },
     "execution_count": 272,
     "metadata": {},
     "output_type": "execute_result"
    },
    {
     "data": {
      "image/png": "[encoded data removed]",
      "text/plain": [
       "<Figure size 432x288 with 2 Axes>"
      ]
     },
     "metadata": {},
     "output_type": "display_data"
    }
   ],
   "source": [
    "#confusion matrix\n",
    "from sklearn.metrics import confusion_matrix\n",
    "df_cm=pd.DataFrame(confusion_matrix(y_test, pred))\n",
    "sns.set(font_scale=1.4)#for label size\n",
    "sns.heatmap(df_cm,annot=True,fmt='d')"
   ]
  },
  {
   "cell_type": "markdown",
   "metadata": {},
   "source": [
    "The accuracy seems to be good and even the TP value is high,so the model is good."
   ]
  },
  {
   "cell_type": "code",
   "execution_count": 274,
   "metadata": {},
   "outputs": [
    {
     "name": "stdout",
     "output_type": "stream",
     "text": [
      "Best HyperParameter:  {'n_neighbors': 13}\n",
      "Best Accuracy: 85.19%\n"
     ]
    }
   ],
   "source": [
    "#gridsearchcv\n",
    "from sklearn.model_selection import GridSearchCV\n",
    "from sklearn.model_selection import TimeSeriesSplit\n",
    "#params we need to try on classifier\n",
    "knn = KNeighborsClassifier(algorithm='brute')\n",
    "param_grid = {'n_neighbors':np.arange(1,40,2)} \n",
    "#For time based splitting\n",
    "t = TimeSeriesSplit(n_splits=10) \n",
    "\n",
    "gsv = GridSearchCV(knn,param_grid,cv=t)\n",
    "gsv.fit(x_1,y_1)\n",
    "print(\"Best HyperParameter: \",gsv.best_params_)\n",
    "print(\"Best Accuracy: %.2f%%\"%(gsv.best_score_*100))"
   ]
  },
  {
   "cell_type": "code",
   "execution_count": 275,
   "metadata": {},
   "outputs": [
    {
     "name": "stdout",
     "output_type": "stream",
     "text": [
      "\n",
      "The accuracy of the knn classifier is 84.550000%\n"
     ]
    }
   ],
   "source": [
    "#accuracy\n",
    "knn=KNeighborsClassifier(n_neighbors=13)\n",
    "knn.fit(x_1,y_1)\n",
    "pred=knn.predict(x_test)\n",
    "acc = accuracy_score(y_test, pred) * 100\n",
    "print('\\nThe accuracy of the knn classifier is %f%%' % ( acc))"
   ]
  },
  {
   "cell_type": "code",
   "execution_count": 276,
   "metadata": {},
   "outputs": [
    {
     "data": {
      "text/plain": [
       "<matplotlib.axes._subplots.AxesSubplot at 0x128584c6f98>"
      ]
     },
     "execution_count": 276,
     "metadata": {},
     "output_type": "execute_result"
    },
    {
     "data": {
      "image/png": "[encoded data removed]",
      "text/plain": [
       "<Figure size 432x288 with 2 Axes>"
      ]
     },
     "metadata": {},
     "output_type": "display_data"
    }
   ],
   "source": [
    "#confusion matrix\n",
    "from sklearn.metrics import confusion_matrix\n",
    "df_cm=pd.DataFrame(confusion_matrix(y_test, pred))\n",
    "sns.set(font_scale=1.4)#for label size\n",
    "sns.heatmap(df_cm,annot=True,fmt='d')"
   ]
  },
  {
   "cell_type": "markdown",
   "metadata": {},
   "source": [
    "The TP and accuracy is good so the model is good with k=13"
   ]
  },
  {
   "cell_type": "markdown",
   "metadata": {},
   "source": [
    "# Tfidf"
   ]
  },
  {
   "cell_type": "code",
   "execution_count": 277,
   "metadata": {},
   "outputs": [],
   "source": [
    "from sklearn.feature_extraction.text import TfidfVectorizer"
   ]
  },
  {
   "cell_type": "code",
   "execution_count": 278,
   "metadata": {},
   "outputs": [],
   "source": [
    "#bigrams\n",
    "tfidf=TfidfVectorizer(ngram_range=(1,2))\n",
    "tdata=tfidf.fit_transform(d.cleaned.values)"
   ]
  },
  {
   "cell_type": "code",
   "execution_count": 279,
   "metadata": {},
   "outputs": [],
   "source": [
    "x=tdata\n",
    "y=d.Score"
   ]
  },
  {
   "cell_type": "code",
   "execution_count": 280,
   "metadata": {},
   "outputs": [],
   "source": [
    "x_1, x_test, y_1, y_test = train_test_split(x, y, test_size=0.3, random_state=0)\n",
    "\n",
    "x_tr, x_cv, y_tr, y_cv = train_test_split(x_1, y_1, test_size=0.3)"
   ]
  },
  {
   "cell_type": "markdown",
   "metadata": {},
   "source": [
    "using cross_val_score"
   ]
  },
  {
   "cell_type": "code",
   "execution_count": 281,
   "metadata": {},
   "outputs": [
    {
     "name": "stdout",
     "output_type": "stream",
     "text": [
      "[0.8144278191687124, 0.84871303090315, 0.8592849716468514, 0.8624992577984552, 0.8611416553565296, 0.8612134924558635, 0.8602136449705187, 0.8595708897227572, 0.8597855836734029, 0.8594280324341274, 0.859356450764953, 0.858642215961772, 0.8584280831994594, 0.8584279812314772, 0.8580708893583255, 0.8576423688408588, 0.8576423688408588, 0.857285276967707, 0.8573568586368813, 0.8568567565231267, 0.8568567055391355, 0.8569280319968093, 0.8565710420916396, 0.856071144132508, 0.8558567563044676]\n"
     ]
    }
   ],
   "source": [
    "cv_scores=[]\n",
    "for k in neighbors:\n",
    "    knn=KNeighborsClassifier(n_neighbors=k,algorithm=\"brute\")\n",
    "    scores=cross_val_score(knn,x_1,y_1,cv=10,scoring=\"accuracy\")\n",
    "    cv_scores.append(scores.mean())\n",
    "print(cv_scores)\n",
    "    "
   ]
  },
  {
   "cell_type": "markdown",
   "metadata": {},
   "source": [
    "we have got the accuracy scores for different k values,now lets calculate the error i.e 1-accuracy"
   ]
  },
  {
   "cell_type": "code",
   "execution_count": 283,
   "metadata": {},
   "outputs": [
    {
     "name": "stdout",
     "output_type": "stream",
     "text": [
      "[0.18557218083128757, 0.15128696909685002, 0.14071502835314864, 0.13750074220154485, 0.13885834464347035, 0.13878650754413646, 0.13978635502948134, 0.1404291102772428, 0.14021441632659715, 0.14057196756587265, 0.14064354923504696, 0.14135778403822796, 0.1415719168005406, 0.14157201876852277, 0.14192911064167446, 0.14235763115914124, 0.14235763115914124, 0.14271472303229304, 0.14264314136311873, 0.14314324347687335, 0.1431432944608645, 0.14307196800319066, 0.1434289579083604, 0.14392885586749204, 0.14414324369553244]\n"
     ]
    }
   ],
   "source": [
    "#calculating error\n",
    "error=[1-x for x in cv_scores]\n",
    "print(error)"
   ]
  },
  {
   "cell_type": "code",
   "execution_count": 284,
   "metadata": {},
   "outputs": [
    {
     "name": "stdout",
     "output_type": "stream",
     "text": [
      "7\n"
     ]
    }
   ],
   "source": [
    "#finding k with least error\n",
    "optimal_k=neighbors[error.index(min(error))]\n",
    "print(optimal_k)"
   ]
  },
  {
   "cell_type": "markdown",
   "metadata": {},
   "source": [
    "performance can be measured using different methods i have used 1. accuracy_score 2. confusion matrix"
   ]
  },
  {
   "cell_type": "code",
   "execution_count": 285,
   "metadata": {},
   "outputs": [
    {
     "name": "stdout",
     "output_type": "stream",
     "text": [
      "\n",
      "The accuracy of the knn classifier for k = 7 is 85.516667%\n"
     ]
    }
   ],
   "source": [
    "#accuracy\n",
    "knn=KNeighborsClassifier(n_neighbors=optimal_k)\n",
    "knn.fit(x_1,y_1)\n",
    "pred=knn.predict(x_test)\n",
    "acc = accuracy_score(y_test, pred) * 100\n",
    "print('\\nThe accuracy of the knn classifier for k = %d is %f%%' % (optimal_k, acc))\n"
   ]
  },
  {
   "cell_type": "code",
   "execution_count": 286,
   "metadata": {},
   "outputs": [
    {
     "data": {
      "text/plain": [
       "<matplotlib.axes._subplots.AxesSubplot at 0x1282a79d518>"
      ]
     },
     "execution_count": 286,
     "metadata": {},
     "output_type": "execute_result"
    },
    {
     "data": {
      "image/png": "[encoded data removed]",
      "text/plain": [
       "<Figure size 432x288 with 2 Axes>"
      ]
     },
     "metadata": {},
     "output_type": "display_data"
    }
   ],
   "source": [
    "#confusion_matrix\n",
    "from sklearn.metrics import confusion_matrix\n",
    "df_cm=pd.DataFrame(confusion_matrix(y_test, pred))\n",
    "sns.set(font_scale=1.4)#for label size\n",
    "sns.heatmap(df_cm,annot=True,fmt='d')"
   ]
  },
  {
   "cell_type": "markdown",
   "metadata": {},
   "source": [
    "the accuracy and TP are good ,so the model is good."
   ]
  },
  {
   "cell_type": "code",
   "execution_count": 287,
   "metadata": {},
   "outputs": [
    {
     "name": "stdout",
     "output_type": "stream",
     "text": [
      "Best HyperParameter:  {'n_neighbors': 13}\n",
      "Best Accuracy: 85.90%\n"
     ]
    }
   ],
   "source": [
    "#gridsearch cv\n",
    "from sklearn.model_selection import GridSearchCV as g\n",
    "from sklearn.neighbors import KNeighborsClassifier\n",
    "from sklearn.model_selection import TimeSeriesSplit\n",
    "\n",
    "knn = KNeighborsClassifier(algorithm='brute')\n",
    "#params we need to try on classifier\n",
    "param_grid = {'n_neighbors':np.arange(1,40,2)} \n",
    "#For time based splitting\n",
    "t = TimeSeriesSplit(n_splits=10) \n",
    "\n",
    "gsv = g(knn,param_grid,cv=t)\n",
    "gsv.fit(x_1,y_1)\n",
    "print(\"Best HyperParameter: \",gsv.best_params_)\n",
    "print(\"Best Accuracy: %.2f%%\"%(gsv.best_score_*100))"
   ]
  },
  {
   "cell_type": "code",
   "execution_count": 288,
   "metadata": {},
   "outputs": [
    {
     "name": "stdout",
     "output_type": "stream",
     "text": [
      "\n",
      "The accuracy of the knn classifier is 85.566667%\n"
     ]
    },
    {
     "data": {
      "text/plain": [
       "<matplotlib.axes._subplots.AxesSubplot at 0x128263d8828>"
      ]
     },
     "execution_count": 288,
     "metadata": {},
     "output_type": "execute_result"
    },
    {
     "data": {
      "image/png": "[encoded data removed]",
      "text/plain": [
       "<Figure size 432x288 with 2 Axes>"
      ]
     },
     "metadata": {},
     "output_type": "display_data"
    }
   ],
   "source": [
    "from sklearn.metrics import confusion_matrix\n",
    "knn=KNeighborsClassifier(n_neighbors=13)\n",
    "knn.fit(x_1,y_1)\n",
    "pred=knn.predict(x_test)\n",
    "acc = accuracy_score(y_test, pred) * 100\n",
    "print('\\nThe accuracy of the knn classifier is %f%%' % ( acc))\n",
    "df_cm=pd.DataFrame(confusion_matrix(y_test, pred))\n",
    "sns.set(font_scale=1.4)#for label size\n",
    "sns.heatmap(df_cm,annot=True,fmt='d')"
   ]
  },
  {
   "cell_type": "markdown",
   "metadata": {},
   "source": [
    "The TP and accuracy are good,so,the model is good."
   ]
  },
  {
   "cell_type": "markdown",
   "metadata": {},
   "source": [
    "# Word2Vec"
   ]
  },
  {
   "cell_type": "code",
   "execution_count": 224,
   "metadata": {},
   "outputs": [],
   "source": [
    "from gensim.models import Word2Vec\n",
    "#making list of sentences\n",
    "import string\n",
    "i=0\n",
    "list_s=[]\n",
    "for s in d.Text.values:\n",
    "    filtered=[]\n",
    "    s=cleanhtml(s)\n",
    "    for w in s.split():\n",
    "        for c_w in cleanpunc(w).split():\n",
    "            if c_w.isalpha():\n",
    "                filtered.append(c_w.lower())\n",
    "            else:\n",
    "                continue\n",
    "    list_s.append(filtered)\n",
    "#training our own model\n",
    "w2v_model=Word2Vec(list_s,min_count=5,size=50,workers=4)"
   ]
  },
  {
   "cell_type": "markdown",
   "metadata": {},
   "source": [
    "# Average word2vec"
   ]
  },
  {
   "cell_type": "code",
   "execution_count": 290,
   "metadata": {},
   "outputs": [
    {
     "name": "stdout",
     "output_type": "stream",
     "text": [
      "20000\n",
      "50\n"
     ]
    }
   ],
   "source": [
    "#creating avg word2vec\n",
    "sv=[]\n",
    "for s in list_s:\n",
    "    sum=np.zeros(50)\n",
    "    i=0\n",
    "    for w in s:\n",
    "        try:\n",
    "            \n",
    "            x=w2v_model.wv[w]\n",
    "            sum+=x\n",
    "            i+=1\n",
    "        except:\n",
    "            pass\n",
    "    sum/=i\n",
    "    sv.append(sum)\n",
    "    \n",
    "#cheking the dimension\n",
    "print(len(sv))\n",
    "print(len(sv[0]))"
   ]
  },
  {
   "cell_type": "code",
   "execution_count": 291,
   "metadata": {},
   "outputs": [],
   "source": [
    "x=np.asarray(sv)\n",
    "y=d.Score"
   ]
  },
  {
   "cell_type": "code",
   "execution_count": 292,
   "metadata": {},
   "outputs": [],
   "source": [
    "x_1, x_test, y_1, y_test = train_test_split(x, y, test_size=0.3, random_state=0)\n",
    "\n",
    "x_tr, x_cv, y_tr, y_cv = train_test_split(x_1, y_1, test_size=0.3)"
   ]
  },
  {
   "cell_type": "markdown",
   "metadata": {},
   "source": [
    "I have used two ways to find k <br>1. cross_val_score <br>2. gridsearchcv"
   ]
  },
  {
   "cell_type": "code",
   "execution_count": 293,
   "metadata": {},
   "outputs": [
    {
     "name": "stdout",
     "output_type": "stream",
     "text": [
      "[0.8007867973037597, 0.8420018051029619, 0.8487147146868079, 0.8556422669457631, 0.8577143080539471, 0.859143033382014, 0.8613578294464144, 0.8614292069609657, 0.8597866043007455, 0.8606435943516881, 0.8600010432585498, 0.8603578799930874, 0.8587865022598772, 0.8592864512029997, 0.8582859917639901, 0.8592150227044577, 0.8599291552481112, 0.8597149206635892, 0.8593576246358143, 0.8591433389215286, 0.8585716550657132, 0.858000124161871, 0.8578573180030048, 0.858214409949043, 0.8574999709183526]\n"
     ]
    }
   ],
   "source": [
    "#cross_val_score\n",
    "cv_scores=[]\n",
    "for k in neighbors:\n",
    "    knn=KNeighborsClassifier(n_neighbors=k,algorithm='brute')\n",
    "    scores=cross_val_score(knn,x_1,y_1,cv=10,scoring=\"accuracy\")\n",
    "    cv_scores.append(scores.mean())\n",
    "print(cv_scores)\n",
    "    "
   ]
  },
  {
   "cell_type": "markdown",
   "metadata": {},
   "source": [
    "we got accuracy score for different k values , so the lets calculate error i.e. 1-accuracy"
   ]
  },
  {
   "cell_type": "code",
   "execution_count": 295,
   "metadata": {},
   "outputs": [
    {
     "name": "stdout",
     "output_type": "stream",
     "text": [
      "[0.19921320269624032, 0.15799819489703815, 0.15128528531319207, 0.14435773305423694, 0.1422856919460529, 0.14085696661798597, 0.13864217055358563, 0.1385707930390343, 0.1402133956992545, 0.13935640564831187, 0.13999895674145024, 0.13964212000691256, 0.14121349774012282, 0.14071354879700027, 0.14171400823600988, 0.1407849772955423, 0.1400708447518888, 0.14028507933641077, 0.14064237536418567, 0.1408566610784714, 0.1414283449342868, 0.141999875838129, 0.1421426819969952, 0.14178559005095703, 0.14250002908164738]\n"
     ]
    }
   ],
   "source": [
    "#cal error\n",
    "error=[1-x for x in cv_scores]\n",
    "print(error)"
   ]
  },
  {
   "cell_type": "code",
   "execution_count": 296,
   "metadata": {},
   "outputs": [
    {
     "name": "stdout",
     "output_type": "stream",
     "text": [
      "15\n"
     ]
    }
   ],
   "source": [
    "#finding the k value with least error\n",
    "optimal_k=neighbors[error.index(min(error))]\n",
    "print(optimal_k)"
   ]
  },
  {
   "cell_type": "markdown",
   "metadata": {},
   "source": [
    "performance measured with accuracy score and confusion matirx"
   ]
  },
  {
   "cell_type": "code",
   "execution_count": 297,
   "metadata": {},
   "outputs": [
    {
     "name": "stdout",
     "output_type": "stream",
     "text": [
      "\n",
      "The accuracy of the knn classifier for k = 15 is 85.333333%\n"
     ]
    },
    {
     "data": {
      "text/plain": [
       "<matplotlib.axes._subplots.AxesSubplot at 0x12862d2e8d0>"
      ]
     },
     "execution_count": 297,
     "metadata": {},
     "output_type": "execute_result"
    },
    {
     "data": {
      "image/png": "[encoded data removed]",
      "text/plain": [
       "<Figure size 432x288 with 2 Axes>"
      ]
     },
     "metadata": {},
     "output_type": "display_data"
    }
   ],
   "source": [
    "from sklearn.metrics import confusion_matrix\n",
    "knn=KNeighborsClassifier(n_neighbors=optimal_k)\n",
    "knn.fit(x_1,y_1)\n",
    "pred=knn.predict(x_test)\n",
    "acc = accuracy_score(y_test, pred) * 100\n",
    "print('\\nThe accuracy of the knn classifier for k = %d is %f%%' % (optimal_k, acc))\n",
    "df_cm=pd.DataFrame(confusion_matrix(y_test, pred))\n",
    "sns.set(font_scale=1.4)#for label size\n",
    "sns.heatmap(df_cm,annot=True,fmt='d')"
   ]
  },
  {
   "cell_type": "markdown",
   "metadata": {},
   "source": [
    "The TP and accuracy score are quiet good ,so the model seems to be good"
   ]
  },
  {
   "cell_type": "code",
   "execution_count": 300,
   "metadata": {},
   "outputs": [
    {
     "name": "stdout",
     "output_type": "stream",
     "text": [
      "Best HyperParameter:  {'n_neighbors': 31}\n",
      "Best Accuracy: 85.59%\n"
     ]
    }
   ],
   "source": [
    "#gridsearchcv\n",
    "from sklearn.model_selection import GridSearchCV as g\n",
    "from sklearn.model_selection import TimeSeriesSplit\n",
    "knn = KNeighborsClassifier(algorithm='brute')\n",
    "#params we need to try on classifier\n",
    "param_grid = {'n_neighbors':np.arange(1,40,2)} \n",
    "#For time based splitting\n",
    "t = TimeSeriesSplit(n_splits=10)\n",
    "\n",
    "gsv = g(knn,param_grid,cv=t)\n",
    "gsv.fit(x_1,y_1)\n",
    "print(\"Best HyperParameter: \",gsv.best_params_)\n",
    "print(\"Best Accuracy: %.2f%%\"%(gsv.best_score_*100))"
   ]
  },
  {
   "cell_type": "markdown",
   "metadata": {},
   "source": [
    "Performance :"
   ]
  },
  {
   "cell_type": "code",
   "execution_count": 301,
   "metadata": {},
   "outputs": [
    {
     "name": "stdout",
     "output_type": "stream",
     "text": [
      "\n",
      "The accuracy of the knn classifier is 85.083333%\n"
     ]
    },
    {
     "data": {
      "text/plain": [
       "<matplotlib.axes._subplots.AxesSubplot at 0x128583f0860>"
      ]
     },
     "execution_count": 301,
     "metadata": {},
     "output_type": "execute_result"
    },
    {
     "data": {
      "image/png": "[encoded data removed]",
      "text/plain": [
       "<Figure size 432x288 with 2 Axes>"
      ]
     },
     "metadata": {},
     "output_type": "display_data"
    }
   ],
   "source": [
    "from sklearn.metrics import confusion_matrix\n",
    "knn=KNeighborsClassifier(n_neighbors=31)\n",
    "knn.fit(x_1,y_1)\n",
    "pred=knn.predict(x_test)\n",
    "acc = accuracy_score(y_test, pred) * 100\n",
    "print('\\nThe accuracy of the knn classifier is %f%%' % ( acc))\n",
    "df_cm=pd.DataFrame(confusion_matrix(y_test, pred))\n",
    "sns.set(font_scale=1.4)#for label size\n",
    "sns.heatmap(df_cm,annot=True,fmt='d')"
   ]
  },
  {
   "cell_type": "markdown",
   "metadata": {},
   "source": [
    "The TP and the accuracy are good .so the model is good"
   ]
  },
  {
   "cell_type": "markdown",
   "metadata": {},
   "source": [
    "# Tfidf word2vec"
   ]
  },
  {
   "cell_type": "code",
   "execution_count": 225,
   "metadata": {},
   "outputs": [],
   "source": [
    "tfidf_feat = tfidf.get_feature_names()\n",
    "tf=tfidf.fit_transform(d.Text.values)\n",
    "tfidfsv = []\n",
    "row=0;\n",
    "for s in list_s: \n",
    "    sum = np.zeros(50) \n",
    "    i=0; \n",
    "    for word in s: \n",
    "        try:\n",
    "            vec = w2v_model.wv[word]\n",
    "            tf_idf = tf[row, tfidf_feat.index(word)]\n",
    "            sum += (vec * tf_idf)\n",
    "            i += tf_idf\n",
    "        except:\n",
    "            pass\n",
    "    sum /= i\n",
    "    tfidfsv.append(sum)\n",
    "    row += 1"
   ]
  },
  {
   "cell_type": "code",
   "execution_count": 226,
   "metadata": {},
   "outputs": [
    {
     "data": {
      "text/plain": [
       "array([[nan, nan, nan, ..., nan, nan, nan],\n",
       "       [nan, nan, nan, ..., nan, nan, nan],\n",
       "       [nan, nan, nan, ..., nan, nan, nan],\n",
       "       ...,\n",
       "       [nan, nan, nan, ..., nan, nan, nan],\n",
       "       [nan, nan, nan, ..., nan, nan, nan],\n",
       "       [nan, nan, nan, ..., nan, nan, nan]])"
      ]
     },
     "execution_count": 226,
     "metadata": {},
     "output_type": "execute_result"
    }
   ],
   "source": [
    "x=np.asarray(tfidfsv)\n",
    "y=d.Score\n",
    "x"
   ]
  },
  {
   "cell_type": "code",
   "execution_count": 245,
   "metadata": {},
   "outputs": [],
   "source": [
    "#splitting of the data\n",
    "x_1, x_test, y_1, y_test = train_test_split(x, y, test_size=0.3)\n",
    "\n",
    "x_tr, x_cv, y_tr, y_cv = train_test_split(x_1, y_1, test_size=0.3)"
   ]
  },
  {
   "cell_type": "markdown",
   "metadata": {},
   "source": [
    "The 'x' array has 'NaN' values we have to change them ."
   ]
  },
  {
   "cell_type": "code",
   "execution_count": 246,
   "metadata": {},
   "outputs": [
    {
     "data": {
      "text/plain": [
       "array([[ True,  True,  True, ...,  True,  True,  True],\n",
       "       [ True,  True,  True, ...,  True,  True,  True],\n",
       "       [ True,  True,  True, ...,  True,  True,  True],\n",
       "       ...,\n",
       "       [ True,  True,  True, ...,  True,  True,  True],\n",
       "       [ True,  True,  True, ...,  True,  True,  True],\n",
       "       [ True,  True,  True, ...,  True,  True,  True]])"
      ]
     },
     "execution_count": 246,
     "metadata": {},
     "output_type": "execute_result"
    }
   ],
   "source": [
    "# changing 'NaN' to numeric value\n",
    "x_1=np.isnan(x_1)\n",
    "np.where(np.isnan(x_1))\n",
    "np.nan_to_num(x_1)\n",
    "\n",
    "x_test=np.isnan(x_test)\n",
    "np.where(np.isnan(x_test))\n",
    "np.nan_to_num(x_test)"
   ]
  },
  {
   "cell_type": "markdown",
   "metadata": {},
   "source": [
    "I have used two ways to identify hyperparameter(k) value :<br>1. using the cross validation score.<br>2. using gridsearchcv\n",
    "<br><br>lets see both of them"
   ]
  },
  {
   "cell_type": "code",
   "execution_count": 249,
   "metadata": {},
   "outputs": [
    {
     "name": "stdout",
     "output_type": "stream",
     "text": [
      "[0.6411209697045763, 0.710835255418862, 0.7801428928207178, 0.7105714642492893, 0.8499286071064323, 0.8499286071064323, 0.8499286071064323, 0.8499286071064323, 0.8499286071064323, 0.8499286071064323, 0.8499286071064323, 0.8499286071064323, 0.8499286071064323, 0.8499286071064323, 0.8499286071064323, 0.8499286071064323, 0.8499286071064323, 0.8499286071064323, 0.8499286071064323, 0.8499286071064323, 0.8499286071064323, 0.8499286071064323, 0.8499286071064323, 0.8499286071064323, 0.8499286071064323]\n"
     ]
    }
   ],
   "source": [
    "#neighors=(1,50,2)\n",
    "cv_scores=[]\n",
    "for k in neighbors:\n",
    "    knn=KNeighborsClassifier(n_neighbors=k)\n",
    "    scores=cross_val_score(knn,x_1,y_1,cv=10,scoring=\"accuracy\")\n",
    "    cv_scores.append(scores.mean())\n",
    "print(cv_scores)"
   ]
  },
  {
   "cell_type": "markdown",
   "metadata": {},
   "source": [
    "We have got cv_scores it basically has the accuracy score repective to k neighbor,now lets see what is the error i.e. nothing but 1-accuracy."
   ]
  },
  {
   "cell_type": "code",
   "execution_count": 250,
   "metadata": {},
   "outputs": [
    {
     "name": "stdout",
     "output_type": "stream",
     "text": [
      "[0.3588790302954237, 0.28916474458113794, 0.2198571071792822, 0.2894285357507107, 0.15007139289356775, 0.15007139289356775, 0.15007139289356775, 0.15007139289356775, 0.15007139289356775, 0.15007139289356775, 0.15007139289356775, 0.15007139289356775, 0.15007139289356775, 0.15007139289356775, 0.15007139289356775, 0.15007139289356775, 0.15007139289356775, 0.15007139289356775, 0.15007139289356775, 0.15007139289356775, 0.15007139289356775, 0.15007139289356775, 0.15007139289356775, 0.15007139289356775, 0.15007139289356775]\n"
     ]
    }
   ],
   "source": [
    "#calculation of error\n",
    "error=[1-x for x in cv_scores]\n",
    "print(error)"
   ]
  },
  {
   "cell_type": "code",
   "execution_count": 251,
   "metadata": {},
   "outputs": [
    {
     "name": "stdout",
     "output_type": "stream",
     "text": [
      "9\n"
     ]
    }
   ],
   "source": [
    "#finding k with least error\n",
    "optimal_k=neighbors[error.index(min(error))]\n",
    "print(optimal_k)"
   ]
  },
  {
   "cell_type": "markdown",
   "metadata": {},
   "source": [
    "We can measure the accuracy by accuracy but it is not the only method .confusion matrix is also one the method."
   ]
  },
  {
   "cell_type": "code",
   "execution_count": 257,
   "metadata": {},
   "outputs": [
    {
     "name": "stdout",
     "output_type": "stream",
     "text": [
      "\n",
      "The accuracy of the knn classifier for k = 9 is 85.016667%\n"
     ]
    }
   ],
   "source": [
    "#measuring with accuracy\n",
    "knn=KNeighborsClassifier(n_neighbors=optimal_k)\n",
    "knn.fit(x_1,y_1)\n",
    "pred=knn.predict(x_test)\n",
    "acc = accuracy_score(y_test, pred) * 100\n",
    "print('\\nThe accuracy of the knn classifier for k = %d is %f%%' % (optimal_k, acc))\n",
    "\n"
   ]
  },
  {
   "cell_type": "code",
   "execution_count": 258,
   "metadata": {},
   "outputs": [
    {
     "data": {
      "text/plain": [
       "<matplotlib.axes._subplots.AxesSubplot at 0x12852a4a390>"
      ]
     },
     "execution_count": 258,
     "metadata": {},
     "output_type": "execute_result"
    },
    {
     "data": {
      "image/png": "[encoded data removed]",
      "text/plain": [
       "<Figure size 432x288 with 2 Axes>"
      ]
     },
     "metadata": {},
     "output_type": "display_data"
    }
   ],
   "source": [
    "#confusion matirx\n",
    "from sklearn.metrics import confusion_matrix\n",
    "df_cm = pd.DataFrame(confusion_matrix(y_test, pred), range(2),range(2))\n",
    "sns.set(font_scale=1.4)#for label size\n",
    "sns.heatmap(df_cm, annot=True,annot_kws={\"size\": 16}, fmt='g')"
   ]
  },
  {
   "cell_type": "markdown",
   "metadata": {},
   "source": [
    "the accuracy is high and even TP in confusion is high.so we can say model is good."
   ]
  },
  {
   "cell_type": "code",
   "execution_count": 254,
   "metadata": {},
   "outputs": [
    {
     "name": "stdout",
     "output_type": "stream",
     "text": [
      "Best HyperParameter:  {'n_neighbors': 1}\n",
      "Best Accuracy: 85.06%\n"
     ]
    }
   ],
   "source": [
    "#gridsearch_cv\n",
    "from sklearn.model_selection import GridSearchCV as g\n",
    "from sklearn.model_selection import TimeSeriesSplit\n",
    "knn = KNeighborsClassifier(algorithm='brute')\n",
    "#parameter to implement on classifier\n",
    "param_grid = {'n_neighbors':np.arange(1,40,2)}\n",
    "#time based splitting\n",
    "t = TimeSeriesSplit(n_splits=10) \n",
    "\n",
    "gsv = g(knn,param_grid,cv=t)\n",
    "gsv.fit(x_1,y_1)\n",
    "print(\"Best HyperParameter: \",gsv.best_params_)\n",
    "print(\"Best Accuracy: %.2f%%\"%(gsv.best_score_*100))"
   ]
  },
  {
   "cell_type": "code",
   "execution_count": 256,
   "metadata": {},
   "outputs": [
    {
     "name": "stdout",
     "output_type": "stream",
     "text": [
      "\n",
      "The accuracy of the knn classifier is 15.400000%\n"
     ]
    },
    {
     "data": {
      "text/plain": [
       "<matplotlib.axes._subplots.AxesSubplot at 0x1285f473a90>"
      ]
     },
     "execution_count": 256,
     "metadata": {},
     "output_type": "execute_result"
    },
    {
     "data": {
      "image/png": "[encoded data removed]",
      "text/plain": [
       "<Figure size 432x288 with 2 Axes>"
      ]
     },
     "metadata": {},
     "output_type": "display_data"
    }
   ],
   "source": [
    "from sklearn.metrics import confusion_matrix\n",
    "knn=KNeighborsClassifier(n_neighbors=1)\n",
    "knn.fit(x_1,y_1)\n",
    "pred=knn.predict(x_test)\n",
    "acc = accuracy_score(y_test, pred) * 100\n",
    "print('\\nThe accuracy of the knn classifier is %f%%' % (acc))\n",
    "\n",
    "df_cm = pd.DataFrame(confusion_matrix(y_test, pred))\n",
    "#size of the label\n",
    "sns.set(font_scale=1.4)\n",
    "sns.heatmap(df_cm, annot=True, fmt='g')"
   ]
  },
  {
   "cell_type": "markdown",
   "metadata": {},
   "source": [
    "the accuracy is very less for the test data and we saw that we had high accuracy in train data, k is small so, the model seems to overfitting "
   ]
  },
  {
   "cell_type": "markdown",
   "metadata": {},
   "source": [
    "# Conclusion :\n",
    "<br>1.The more the data ,more will be the accuracy.\n",
    "<br>2.if the test and train data have different distribution,the model does not work properly ,as we can see in tfidf word2vec i.e above cell our train accuracy is good but the test accuracy is vey low .\n",
    "<br>3.you cannot pass sparse matrix to the kdtree.\n",
    "<br>4.doing cross validation can increase your train data which increases your accuracy as we know more the data more is the accuracy."
   ]
  },
  {
   "cell_type": "code",
   "execution_count": null,
   "metadata": {},
   "outputs": [],
   "source": []
  }
 ],
 "metadata": {
  "kernelspec": {
   "display_name": "Python 3",
   "language": "python",
   "name": "python3"
  },
  "language_info": {
   "codemirror_mode": {
    "name": "ipython",
    "version": 3
   },
   "file_extension": ".py",
   "mimetype": "text/x-python",
   "name": "python",
   "nbconvert_exporter": "python",
   "pygments_lexer": "ipython3",
   "version": "3.6.5"
  }
 },
 "nbformat": 4,
 "nbformat_minor": 2
}
