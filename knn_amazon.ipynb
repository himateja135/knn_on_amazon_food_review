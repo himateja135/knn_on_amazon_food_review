{
 "cells": [
  {
   "cell_type": "markdown",
   "metadata": {},
   "source": [
    "# objective :\n",
    "<br>Applying knn to classify the amazon food reviews."
   ]
  },
  {
   "cell_type": "code",
   "execution_count": 1,
   "metadata": {},
   "outputs": [
    {
     "name": "stderr",
     "output_type": "stream",
     "text": [
      "C:\\Users\\himateja\\Anaconda3\\lib\\site-packages\\sklearn\\cross_validation.py:41: DeprecationWarning: This module was deprecated in version 0.18 in favor of the model_selection module into which all the refactored classes and functions are moved. Also note that the interface of the new CV iterators are different from that of this module. This module will be removed in 0.20.\n",
      "  \"This module will be removed in 0.20.\", DeprecationWarning)\n"
     ]
    }
   ],
   "source": [
    "import sqlite3 as s\n",
    "import pandas as pd\n",
    "import matplotlib.pyplot as plt\n",
    "import seaborn as sns\n",
    "import numpy as np\n",
    "from sklearn.neighbors import KNeighborsClassifier\n",
    "from sklearn.model_selection import train_test_split\n",
    "from sklearn.cross_validation import cross_val_score\n",
    "from sklearn.metrics import accuracy_score\n",
    "from sklearn.model_selection import GridSearchCV\n",
    "from sklearn.model_selection import TimeSeriesSplit\n",
    "from sklearn.metrics import confusion_matrix\n"
   ]
  },
  {
   "cell_type": "code",
   "execution_count": 2,
   "metadata": {},
   "outputs": [
    {
     "data": {
      "text/plain": [
       "<sqlite3.Connection at 0x1f20bf263b0>"
      ]
     },
     "execution_count": 2,
     "metadata": {},
     "output_type": "execute_result"
    }
   ],
   "source": [
    "con=s.connect(\"database.sqlite\")\n",
    "con"
   ]
  },
  {
   "cell_type": "code",
   "execution_count": 3,
   "metadata": {},
   "outputs": [
    {
     "data": {
      "text/html": [
       "<div>\n",
       "<style scoped>\n",
       "    .dataframe tbody tr th:only-of-type {\n",
       "        vertical-align: middle;\n",
       "    }\n",
       "\n",
       "    .dataframe tbody tr th {\n",
       "        vertical-align: top;\n",
       "    }\n",
       "\n",
       "    .dataframe thead th {\n",
       "        text-align: right;\n",
       "    }\n",
       "</style>\n",
       "<table border=\"1\" class=\"dataframe\">\n",
       "  <thead>\n",
       "    <tr style=\"text-align: right;\">\n",
       "      <th></th>\n",
       "      <th>Id</th>\n",
       "      <th>ProductId</th>\n",
       "      <th>UserId</th>\n",
       "      <th>ProfileName</th>\n",
       "      <th>HelpfulnessNumerator</th>\n",
       "      <th>HelpfulnessDenominator</th>\n",
       "      <th>Score</th>\n",
       "      <th>Time</th>\n",
       "      <th>Summary</th>\n",
       "      <th>Text</th>\n",
       "    </tr>\n",
       "  </thead>\n",
       "  <tbody>\n",
       "    <tr>\n",
       "      <th>0</th>\n",
       "      <td>1</td>\n",
       "      <td>B001E4KFG0</td>\n",
       "      <td>A3SGXH7AUHU8GW</td>\n",
       "      <td>delmartian</td>\n",
       "      <td>1</td>\n",
       "      <td>1</td>\n",
       "      <td>5</td>\n",
       "      <td>1303862400</td>\n",
       "      <td>Good Quality Dog Food</td>\n",
       "      <td>I have bought several of the Vitality canned d...</td>\n",
       "    </tr>\n",
       "    <tr>\n",
       "      <th>1</th>\n",
       "      <td>2</td>\n",
       "      <td>B00813GRG4</td>\n",
       "      <td>A1D87F6ZCVE5NK</td>\n",
       "      <td>dll pa</td>\n",
       "      <td>0</td>\n",
       "      <td>0</td>\n",
       "      <td>1</td>\n",
       "      <td>1346976000</td>\n",
       "      <td>Not as Advertised</td>\n",
       "      <td>Product arrived labeled as Jumbo Salted Peanut...</td>\n",
       "    </tr>\n",
       "    <tr>\n",
       "      <th>2</th>\n",
       "      <td>3</td>\n",
       "      <td>B000LQOCH0</td>\n",
       "      <td>ABXLMWJIXXAIN</td>\n",
       "      <td>Natalia Corres \"Natalia Corres\"</td>\n",
       "      <td>1</td>\n",
       "      <td>1</td>\n",
       "      <td>4</td>\n",
       "      <td>1219017600</td>\n",
       "      <td>\"Delight\" says it all</td>\n",
       "      <td>This is a confection that has been around a fe...</td>\n",
       "    </tr>\n",
       "    <tr>\n",
       "      <th>3</th>\n",
       "      <td>4</td>\n",
       "      <td>B000UA0QIQ</td>\n",
       "      <td>A395BORC6FGVXV</td>\n",
       "      <td>Karl</td>\n",
       "      <td>3</td>\n",
       "      <td>3</td>\n",
       "      <td>2</td>\n",
       "      <td>1307923200</td>\n",
       "      <td>Cough Medicine</td>\n",
       "      <td>If you are looking for the secret ingredient i...</td>\n",
       "    </tr>\n",
       "    <tr>\n",
       "      <th>4</th>\n",
       "      <td>5</td>\n",
       "      <td>B006K2ZZ7K</td>\n",
       "      <td>A1UQRSCLF8GW1T</td>\n",
       "      <td>Michael D. Bigham \"M. Wassir\"</td>\n",
       "      <td>0</td>\n",
       "      <td>0</td>\n",
       "      <td>5</td>\n",
       "      <td>1350777600</td>\n",
       "      <td>Great taffy</td>\n",
       "      <td>Great taffy at a great price.  There was a wid...</td>\n",
       "    </tr>\n",
       "  </tbody>\n",
       "</table>\n",
       "</div>"
      ],
      "text/plain": [
       "   Id   ProductId          UserId                      ProfileName  \\\n",
       "0   1  B001E4KFG0  A3SGXH7AUHU8GW                       delmartian   \n",
       "1   2  B00813GRG4  A1D87F6ZCVE5NK                           dll pa   \n",
       "2   3  B000LQOCH0   ABXLMWJIXXAIN  Natalia Corres \"Natalia Corres\"   \n",
       "3   4  B000UA0QIQ  A395BORC6FGVXV                             Karl   \n",
       "4   5  B006K2ZZ7K  A1UQRSCLF8GW1T    Michael D. Bigham \"M. Wassir\"   \n",
       "\n",
       "   HelpfulnessNumerator  HelpfulnessDenominator  Score        Time  \\\n",
       "0                     1                       1      5  1303862400   \n",
       "1                     0                       0      1  1346976000   \n",
       "2                     1                       1      4  1219017600   \n",
       "3                     3                       3      2  1307923200   \n",
       "4                     0                       0      5  1350777600   \n",
       "\n",
       "                 Summary                                               Text  \n",
       "0  Good Quality Dog Food  I have bought several of the Vitality canned d...  \n",
       "1      Not as Advertised  Product arrived labeled as Jumbo Salted Peanut...  \n",
       "2  \"Delight\" says it all  This is a confection that has been around a fe...  \n",
       "3         Cough Medicine  If you are looking for the secret ingredient i...  \n",
       "4            Great taffy  Great taffy at a great price.  There was a wid...  "
      ]
     },
     "execution_count": 3,
     "metadata": {},
     "output_type": "execute_result"
    }
   ],
   "source": [
    "data=pd.read_sql_query(\"SELECT * FROM Reviews WHERE Score!=3\",con)\n",
    "data.head(5)"
   ]
  },
  {
   "cell_type": "code",
   "execution_count": 4,
   "metadata": {},
   "outputs": [],
   "source": [
    "#function to change the score to positive/negative\n",
    "def change(x):\n",
    "    if x<3:\n",
    "        return 'negative'\n",
    "    else:\n",
    "        return 'positive'"
   ]
  },
  {
   "cell_type": "code",
   "execution_count": 5,
   "metadata": {},
   "outputs": [
    {
     "data": {
      "text/plain": [
       "0    positive\n",
       "1    negative\n",
       "2    positive\n",
       "3    negative\n",
       "4    positive\n",
       "Name: Score, dtype: object"
      ]
     },
     "execution_count": 5,
     "metadata": {},
     "output_type": "execute_result"
    }
   ],
   "source": [
    "a_s=data.Score\n",
    "a_s=a_s.map(change)\n",
    "data.Score=a_s\n",
    "data.Score.head(5)"
   ]
  },
  {
   "cell_type": "markdown",
   "metadata": {},
   "source": [
    "# Data cleaning"
   ]
  },
  {
   "cell_type": "markdown",
   "metadata": {},
   "source": [
    "The data needs to get clean as it may have some unwanted things such as duplicates."
   ]
  },
  {
   "cell_type": "code",
   "execution_count": 6,
   "metadata": {},
   "outputs": [],
   "source": [
    "#sorting the values by product ids\n",
    "data=data.sort_values(\"ProductId\")"
   ]
  },
  {
   "cell_type": "code",
   "execution_count": 7,
   "metadata": {},
   "outputs": [],
   "source": [
    "#removing the duplicates from the data\n",
    "final_data=data.drop_duplicates(subset={\"UserId\",\"Text\",\"ProfileName\",\"Time\"},keep=\"first\",inplace=False)"
   ]
  },
  {
   "cell_type": "code",
   "execution_count": 8,
   "metadata": {},
   "outputs": [
    {
     "name": "stdout",
     "output_type": "stream",
     "text": [
      "(364173, 10)\n",
      "positive    307063\n",
      "negative     57110\n",
      "Name: Score, dtype: int64\n"
     ]
    }
   ],
   "source": [
    "print(final_data.shape)\n",
    "print(final_data.Score.value_counts())"
   ]
  },
  {
   "cell_type": "code",
   "execution_count": 9,
   "metadata": {},
   "outputs": [],
   "source": [
    "p_data=final_data[final_data.Score==\"positive\"]\n",
    "n_data=final_data[final_data.Score==\"negative\"]"
   ]
  },
  {
   "cell_type": "code",
   "execution_count": 14,
   "metadata": {},
   "outputs": [],
   "source": [
    "#randomly selecting points\n",
    "p_data=p_data.sample(17000)\n",
    "n_data=n_data.sample(3000)\n",
    "p_8=p_data.head(8000)\n",
    "n_8=n_data.head(2000)"
   ]
  },
  {
   "cell_type": "code",
   "execution_count": 15,
   "metadata": {},
   "outputs": [
    {
     "name": "stdout",
     "output_type": "stream",
     "text": [
      "(17000, 10) (3000, 10) (8000, 10) (2000, 10)\n"
     ]
    }
   ],
   "source": [
    "print(p_data.shape,n_data.shape,p_8.shape,n_8.shape)"
   ]
  },
  {
   "cell_type": "code",
   "execution_count": 16,
   "metadata": {},
   "outputs": [],
   "source": [
    "#d is to use for brute force and kd is to use for kd_tree\n",
    "d=pd.concat((p_data,n_data))\n",
    "kd=pd.concat((p_8,n_8))"
   ]
  },
  {
   "cell_type": "code",
   "execution_count": 18,
   "metadata": {},
   "outputs": [
    {
     "name": "stdout",
     "output_type": "stream",
     "text": [
      "(20000, 10) (10000, 10)\n"
     ]
    }
   ],
   "source": [
    "print(d.shape,kd.shape)"
   ]
  },
  {
   "cell_type": "code",
   "execution_count": 19,
   "metadata": {},
   "outputs": [],
   "source": [
    "#sorting according to time stamp\n",
    "d=d.sort_values('Time')\n",
    "kd=kd.sort_values('Time')"
   ]
  },
  {
   "cell_type": "code",
   "execution_count": 20,
   "metadata": {},
   "outputs": [
    {
     "name": "stdout",
     "output_type": "stream",
     "text": [
      "positive    17000\n",
      "negative     3000\n",
      "Name: Score, dtype: int64 positive    8000\n",
      "negative    2000\n",
      "Name: Score, dtype: int64\n"
     ]
    }
   ],
   "source": [
    "print(d.Score.value_counts(),kd.Score.value_counts())"
   ]
  },
  {
   "cell_type": "markdown",
   "metadata": {},
   "source": [
    "# Data preprocessing"
   ]
  },
  {
   "cell_type": "markdown",
   "metadata": {},
   "source": [
    "The data should be preprocessed after cleaning it"
   ]
  },
  {
   "cell_type": "code",
   "execution_count": 21,
   "metadata": {},
   "outputs": [],
   "source": [
    "import string \n",
    "from nltk.corpus import stopwords\n",
    "from nltk.stem import SnowballStemmer\n",
    "import re"
   ]
  },
  {
   "cell_type": "code",
   "execution_count": 22,
   "metadata": {},
   "outputs": [],
   "source": [
    "#stopwords\n",
    "stop_words=set(stopwords.words(\"english\"))\n",
    "#initializing snowball stemmer\n",
    "sno=SnowballStemmer(\"english\")"
   ]
  },
  {
   "cell_type": "code",
   "execution_count": 23,
   "metadata": {},
   "outputs": [],
   "source": [
    "#function to remove html tags\n",
    "def cleanhtml(s):\n",
    "    cleanr=re.compile(\"<.*?>\")\n",
    "    cleant=re.sub(cleanr,\" \",s)\n",
    "    return cleant"
   ]
  },
  {
   "cell_type": "code",
   "execution_count": 24,
   "metadata": {},
   "outputs": [],
   "source": [
    "#funtion to remove punctuation and special character\n",
    "def cleanpunc(s): \n",
    "    cleaned = re.sub(r'[?|!|\\'|\"|#]',r'',s)\n",
    "    cleaned = re.sub(r'[.|,|)|(|\\|/]',r' ',cleaned)\n",
    "    return  cleaned\n"
   ]
  },
  {
   "cell_type": "code",
   "execution_count": 25,
   "metadata": {},
   "outputs": [],
   "source": [
    "i=0\n",
    "final=[]\n",
    "\n",
    "for s in d.Text.values:\n",
    "    f=[]\n",
    "    c=cleanhtml(s)\n",
    "    for w in cleanpunc(c).split():\n",
    "        if w.isalpha() and len(w)>2:\n",
    "            if w not in stop_words:\n",
    "                sne=(sno.stem(w.lower())).encode('utf-8')\n",
    "                f.append(sne)\n",
    "               \n",
    "            else:\n",
    "                continue\n",
    "        else:\n",
    "            continue\n",
    "    te=b\" \".join(f)\n",
    "    final.append(te)\n",
    "    i+=1"
   ]
  },
  {
   "cell_type": "code",
   "execution_count": 26,
   "metadata": {},
   "outputs": [],
   "source": [
    "#adding the preprocessed data into another column\n",
    "d[\"cleaned\"]=final"
   ]
  },
  {
   "cell_type": "code",
   "execution_count": 27,
   "metadata": {},
   "outputs": [],
   "source": [
    "i=0\n",
    "kfinal=[]\n",
    "\n",
    "for s in kd.Text.values:\n",
    "    f=[]\n",
    "    c=cleanhtml(s)\n",
    "    for w in cleanpunc(c).split():\n",
    "        if w.isalpha() and len(w)>2:\n",
    "            if w not in stop_words:\n",
    "                sne=(sno.stem(w.lower())).encode('utf-8')\n",
    "                f.append(sne)\n",
    "               \n",
    "            else:\n",
    "                continue\n",
    "        else:\n",
    "            continue\n",
    "    te=b\" \".join(f)\n",
    "    kfinal.append(te)\n",
    "    i+=1"
   ]
  },
  {
   "cell_type": "code",
   "execution_count": 28,
   "metadata": {},
   "outputs": [],
   "source": [
    "kd[\"cleaned\"]=kfinal"
   ]
  },
  {
   "cell_type": "code",
   "execution_count": 31,
   "metadata": {},
   "outputs": [
    {
     "data": {
      "text/plain": [
       "Index(['Id', 'ProductId', 'UserId', 'ProfileName', 'HelpfulnessNumerator',\n",
       "       'HelpfulnessDenominator', 'Score', 'Time', 'Summary', 'Text',\n",
       "       'cleaned'],\n",
       "      dtype='object')"
      ]
     },
     "execution_count": 31,
     "metadata": {},
     "output_type": "execute_result"
    }
   ],
   "source": [
    "#checking if new column is added\n",
    "d.columns"
   ]
  },
  {
   "cell_type": "code",
   "execution_count": 32,
   "metadata": {},
   "outputs": [
    {
     "data": {
      "text/plain": [
       "Index(['Id', 'ProductId', 'UserId', 'ProfileName', 'HelpfulnessNumerator',\n",
       "       'HelpfulnessDenominator', 'Score', 'Time', 'Summary', 'Text',\n",
       "       'cleaned'],\n",
       "      dtype='object')"
      ]
     },
     "execution_count": 32,
     "metadata": {},
     "output_type": "execute_result"
    }
   ],
   "source": [
    "#checking if the column is added\n",
    "kd.columns"
   ]
  },
  {
   "cell_type": "code",
   "execution_count": 33,
   "metadata": {},
   "outputs": [],
   "source": [
    "import sqlite3\n",
    "conn=sqlite3.connect(\"future.sqlite\")\n",
    "c=conn.cursor()\n",
    "conn.text_factory=str\n",
    "d.to_sql('Reviews',conn,if_exists='replace',index=True)"
   ]
  },
  {
   "cell_type": "markdown",
   "metadata": {},
   "source": [
    "Lets create two functions for brute force and kd_tree,so, that we don't have to write it again and again"
   ]
  },
  {
   "cell_type": "code",
   "execution_count": 74,
   "metadata": {},
   "outputs": [],
   "source": [
    "#function for brute force algorithm\n",
    "def main(h,j,k,l):\n",
    "    #gridsearchcv\n",
    "\n",
    "    #params we need to try on classifier\n",
    "    knn = KNeighborsClassifier(algorithm='brute')\n",
    "    param_grid = {'n_neighbors':np.arange(1,40,2)} \n",
    "    #For time based splitting\n",
    "    t = TimeSeriesSplit(n_splits=5) \n",
    "    gsv = GridSearchCV(knn,param_grid,cv=t)\n",
    "    gsv.fit(h,j)\n",
    "    print(\"Best HyperParameter: \",gsv.best_params_)\n",
    "    print(\"Best Accuracy: %.2f%%\"%(gsv.best_score_*100))\n",
    "    print(\"best estimator: \",gsv.estimator)\n",
    "    gsv.estimator.fit(h,j)\n",
    "    pred=gsv.estimator.predict(k)\n",
    "    #accuracy\n",
    "    acc=accuracy_score(l,pred)*100\n",
    "    print(\"the accuracy is %.2f%%\"%acc)\n",
    "    df_cm=pd.DataFrame(confusion_matrix(l,pred))\n",
    "    sns.set(font_scale=1.4)\n",
    "    sns.heatmap(df_cm,annot=True,fmt=\"d\")\n",
    "    \n",
    "    \n",
    "    "
   ]
  },
  {
   "cell_type": "code",
   "execution_count": 46,
   "metadata": {},
   "outputs": [],
   "source": [
    "#function for kd_tree\n",
    "def kmain(h,j,k,l):\n",
    "    #gridsearchcv\n",
    "\n",
    "    #params we need to try on classifier\n",
    "    knn = KNeighborsClassifier(algorithm='kd_tree')\n",
    "    param_grid = {'n_neighbors':np.arange(1,40,2)} \n",
    "    #For time based splitting\n",
    "    t = TimeSeriesSplit(n_splits=5) \n",
    "    gsv = GridSearchCV(knn,param_grid,cv=t)\n",
    "    gsv.fit(h,j)\n",
    "    print(\"Best HyperParameter: \",gsv.best_params_)\n",
    "    print(\"Best Accuracy: %.2f%%\"%(gsv.best_score_*100))\n",
    "    print(\"best estimator: \",gsv.estimator)\n",
    "    gsv.estimator.fit(h,j)\n",
    "    pred=gsv.estimator.predict(k)\n",
    "    #accuracy\n",
    "    acc=accuracy_score(l,pred)*100\n",
    "    print(\"the accuracy is %.2f%%\"%acc)\n",
    "    df_cm=pd.DataFrame(confusion_matrix(l,pred))\n",
    "    sns.set(font_scale=1.4)\n",
    "    sns.heatmap(df_cm,annot=True,fmt=\"d\")\n",
    "    "
   ]
  },
  {
   "cell_type": "markdown",
   "metadata": {},
   "source": [
    "# Bag of words"
   ]
  },
  {
   "cell_type": "markdown",
   "metadata": {},
   "source": [
    "Brute Force algorithm"
   ]
  },
  {
   "cell_type": "code",
   "execution_count": 107,
   "metadata": {},
   "outputs": [],
   "source": [
    "x_1, x_test, y_1, y_test = train_test_split(d.cleaned.values, d.Score, test_size=0.3, random_state=0,shuffle=False)\n",
    "\n",
    "#x_tr, x_cv, y_tr, y_cv = train_test_split(x_1, y_1, test_size=0.3)"
   ]
  },
  {
   "cell_type": "code",
   "execution_count": 108,
   "metadata": {},
   "outputs": [
    {
     "name": "stdout",
     "output_type": "stream",
     "text": [
      "(14000,) (6000,) (14000,) (6000,)\n"
     ]
    }
   ],
   "source": [
    "print(x_1.shape,x_test.shape,y_1.shape,y_test.shape)"
   ]
  },
  {
   "cell_type": "code",
   "execution_count": 109,
   "metadata": {},
   "outputs": [],
   "source": [
    "from sklearn.feature_extraction.text import CountVectorizer"
   ]
  },
  {
   "cell_type": "code",
   "execution_count": 110,
   "metadata": {},
   "outputs": [],
   "source": [
    "#bigrams\n",
    "count_vect=CountVectorizer(ngram_range=(1,2))"
   ]
  },
  {
   "cell_type": "code",
   "execution_count": 111,
   "metadata": {},
   "outputs": [
    {
     "name": "stdout",
     "output_type": "stream",
     "text": [
      "(14000, 308946) (14000,) (6000, 308946) (6000,)\n"
     ]
    }
   ],
   "source": [
    "bdata=count_vect.fit_transform(x_1)\n",
    "\n",
    "test_data=count_vect.transform(x_test)\n",
    "print(bdata.shape,y_1.shape,test_data.shape,y_test.shape)"
   ]
  },
  {
   "cell_type": "code",
   "execution_count": 112,
   "metadata": {},
   "outputs": [
    {
     "name": "stdout",
     "output_type": "stream",
     "text": [
      "Best HyperParameter:  {'n_neighbors': 7}\n",
      "Best Accuracy: 84.62%\n",
      "best estimator:  KNeighborsClassifier(algorithm='brute', leaf_size=30, metric='minkowski',\n",
      "           metric_params=None, n_jobs=1, n_neighbors=5, p=2,\n",
      "           weights='uniform')\n",
      "the accuracy is 83.82%\n",
      "Wall time: 5min 6s\n"
     ]
    },
    {
     "data": {
      "image/png": "[encoded data removed]",
      "text/plain": [
       "<Figure size 432x288 with 2 Axes>"
      ]
     },
     "metadata": {},
     "output_type": "display_data"
    }
   ],
   "source": [
    "%%time\n",
    "main(bdata,y_1,test_data,y_test)"
   ]
  },
  {
   "cell_type": "markdown",
   "metadata": {},
   "source": [
    "Kdtree algorithm"
   ]
  },
  {
   "cell_type": "code",
   "execution_count": 121,
   "metadata": {},
   "outputs": [],
   "source": [
    "from sklearn.decomposition import TruncatedSVD"
   ]
  },
  {
   "cell_type": "code",
   "execution_count": 122,
   "metadata": {},
   "outputs": [],
   "source": [
    "x_1, x_test, y_1, y_test = train_test_split(kd.cleaned.values, kd.Score, test_size=0.3, random_state=0,shuffle=False)\n",
    "\n",
    "#x_tr, x_cv, y_tr, y_cv = train_test_split(x_1, y_1, test_size=0.3)"
   ]
  },
  {
   "cell_type": "code",
   "execution_count": 123,
   "metadata": {},
   "outputs": [],
   "source": [
    "#bigrams\n",
    "count_vect=CountVectorizer(ngram_range=(1,2))"
   ]
  },
  {
   "cell_type": "code",
   "execution_count": 124,
   "metadata": {},
   "outputs": [
    {
     "name": "stdout",
     "output_type": "stream",
     "text": [
      "(7000, 181833) (7000,) (3000, 181833) (3000,)\n"
     ]
    }
   ],
   "source": [
    "bdata=count_vect.fit_transform(x_1)\n",
    "\n",
    "test_data=count_vect.transform(x_test)\n",
    "print(bdata.shape,y_1.shape,test_data.shape,y_test.shape)"
   ]
  },
  {
   "cell_type": "code",
   "execution_count": 117,
   "metadata": {},
   "outputs": [
    {
     "data": {
      "text/plain": [
       "(7000, 1500)"
      ]
     },
     "execution_count": 117,
     "metadata": {},
     "output_type": "execute_result"
    }
   ],
   "source": [
    "#reducing dimension to 1500\n",
    "T=TruncatedSVD(1500)\n",
    "bdata=T.fit_transform(bdata)\n",
    "bdata.shape"
   ]
  },
  {
   "cell_type": "code",
   "execution_count": 118,
   "metadata": {},
   "outputs": [
    {
     "name": "stdout",
     "output_type": "stream",
     "text": [
      "0.7581585063506087\n"
     ]
    }
   ],
   "source": [
    "print(T.explained_variance_ratio_.sum())"
   ]
  },
  {
   "cell_type": "code",
   "execution_count": 119,
   "metadata": {},
   "outputs": [
    {
     "data": {
      "text/plain": [
       "(3000, 1500)"
      ]
     },
     "execution_count": 119,
     "metadata": {},
     "output_type": "execute_result"
    }
   ],
   "source": [
    "test_data=T.transform(test_data)\n",
    "test_data.shape"
   ]
  },
  {
   "cell_type": "code",
   "execution_count": 120,
   "metadata": {},
   "outputs": [
    {
     "name": "stdout",
     "output_type": "stream",
     "text": [
      "Best HyperParameter:  {'n_neighbors': 7}\n",
      "Best Accuracy: 80.09%\n",
      "best estimator:  KNeighborsClassifier(algorithm='kd_tree', leaf_size=30, metric='minkowski',\n",
      "           metric_params=None, n_jobs=1, n_neighbors=5, p=2,\n",
      "           weights='uniform')\n",
      "the accuracy is 79.20%\n",
      "Wall time: 1h 32min 21s\n"
     ]
    },
    {
     "data": {
      "image/png": "[encoded data removed]",
      "text/plain": [
       "<Figure size 432x288 with 2 Axes>"
      ]
     },
     "metadata": {},
     "output_type": "display_data"
    }
   ],
   "source": [
    "%%time\n",
    "#kd_tree with high dimensionality\n",
    "kmain(bdata,y_1,test_data,y_test)"
   ]
  },
  {
   "cell_type": "code",
   "execution_count": 125,
   "metadata": {},
   "outputs": [
    {
     "data": {
      "text/plain": [
       "(7000, 5)"
      ]
     },
     "execution_count": 125,
     "metadata": {},
     "output_type": "execute_result"
    }
   ],
   "source": [
    "#reducing dimendion to 5\n",
    "T=TruncatedSVD(5)\n",
    "bdata=T.fit_transform(bdata)\n",
    "bdata.shape"
   ]
  },
  {
   "cell_type": "code",
   "execution_count": 126,
   "metadata": {},
   "outputs": [
    {
     "data": {
      "text/plain": [
       "(3000, 5)"
      ]
     },
     "execution_count": 126,
     "metadata": {},
     "output_type": "execute_result"
    }
   ],
   "source": [
    "test_data=T.transform(test_data)\n",
    "test_data.shape"
   ]
  },
  {
   "cell_type": "code",
   "execution_count": 127,
   "metadata": {},
   "outputs": [
    {
     "name": "stdout",
     "output_type": "stream",
     "text": [
      "Best HyperParameter:  {'n_neighbors': 23}\n",
      "Best Accuracy: 79.35%\n",
      "best estimator:  KNeighborsClassifier(algorithm='kd_tree', leaf_size=30, metric='minkowski',\n",
      "           metric_params=None, n_jobs=1, n_neighbors=5, p=2,\n",
      "           weights='uniform')\n",
      "the accuracy is 76.10%\n",
      "Wall time: 7.73 s\n"
     ]
    },
    {
     "data": {
      "image/png": "[encoded data removed]",
      "text/plain": [
       "<Figure size 432x288 with 2 Axes>"
      ]
     },
     "metadata": {},
     "output_type": "display_data"
    }
   ],
   "source": [
    "%%time\n",
    "#kd_tree with small dimensionality\n",
    "kmain(bdata,y_1,test_data,y_test)"
   ]
  },
  {
   "cell_type": "markdown",
   "metadata": {},
   "source": [
    "Summary:\n",
    "    <br>brute force : accuracy is 84.62 and TP is also high \n",
    "    <br>kd_tree : with high dimension we got accuray as 80% and small dimension gave 79.35% but the thing to notice is that kd_tree with high dimension takes a lot of time than with smaller dimension."
   ]
  },
  {
   "cell_type": "markdown",
   "metadata": {},
   "source": [
    "# Tfidf"
   ]
  },
  {
   "cell_type": "code",
   "execution_count": 94,
   "metadata": {},
   "outputs": [],
   "source": [
    "from sklearn.feature_extraction.text import TfidfVectorizer"
   ]
  },
  {
   "cell_type": "markdown",
   "metadata": {},
   "source": [
    "brute force algorithm"
   ]
  },
  {
   "cell_type": "code",
   "execution_count": 95,
   "metadata": {},
   "outputs": [],
   "source": [
    "x_1, x_test, y_1, y_test = train_test_split(d.cleaned.values, d.Score, test_size=0.3, random_state=0,shuffle=False)\n",
    "\n",
    "#x_tr, x_cv, y_tr, y_cv = train_test_split(x_1, y_1, test_size=0.3)"
   ]
  },
  {
   "cell_type": "code",
   "execution_count": 96,
   "metadata": {},
   "outputs": [],
   "source": [
    "#bigrams\n",
    "tfidf=TfidfVectorizer(ngram_range=(1,2))"
   ]
  },
  {
   "cell_type": "code",
   "execution_count": 97,
   "metadata": {},
   "outputs": [
    {
     "name": "stdout",
     "output_type": "stream",
     "text": [
      "(14000, 308946) (6000, 308946)\n"
     ]
    }
   ],
   "source": [
    "tdata=tfidf.fit_transform(x_1)\n",
    "test_data=tfidf.transform(x_test)\n",
    "print(tdata.shape,test_data.shape)"
   ]
  },
  {
   "cell_type": "code",
   "execution_count": 98,
   "metadata": {},
   "outputs": [
    {
     "name": "stdout",
     "output_type": "stream",
     "text": [
      "Best HyperParameter:  {'n_neighbors': 7}\n",
      "Best Accuracy: 85.43%\n",
      "best estimator:  KNeighborsClassifier(algorithm='brute', leaf_size=30, metric='minkowski',\n",
      "           metric_params=None, n_jobs=1, n_neighbors=5, p=2,\n",
      "           weights='uniform')\n",
      "the accuracy is 84.85%\n",
      "Wall time: 5min 25s\n"
     ]
    },
    {
     "data": {
      "image/png": "[encoded data removed]",
      "text/plain": [
       "<Figure size 432x288 with 2 Axes>"
      ]
     },
     "metadata": {},
     "output_type": "display_data"
    }
   ],
   "source": [
    "%%time\n",
    "main(tdata,y_1,test_data,y_test)"
   ]
  },
  {
   "cell_type": "markdown",
   "metadata": {},
   "source": [
    "Kd tree"
   ]
  },
  {
   "cell_type": "code",
   "execution_count": 99,
   "metadata": {},
   "outputs": [],
   "source": [
    "from sklearn.decomposition import TruncatedSVD"
   ]
  },
  {
   "cell_type": "code",
   "execution_count": 100,
   "metadata": {},
   "outputs": [],
   "source": [
    "x_1, x_test, y_1, y_test = train_test_split(kd.cleaned.values, kd.Score, test_size=0.3, random_state=0,shuffle=False)\n",
    "\n",
    "#x_tr, x_cv, y_tr, y_cv = train_test_split(x_1, y_1, test_size=0.3)"
   ]
  },
  {
   "cell_type": "code",
   "execution_count": 101,
   "metadata": {},
   "outputs": [],
   "source": [
    "#bigrams\n",
    "tfidf=TfidfVectorizer(ngram_range=(1,2))"
   ]
  },
  {
   "cell_type": "code",
   "execution_count": 102,
   "metadata": {},
   "outputs": [
    {
     "name": "stdout",
     "output_type": "stream",
     "text": [
      "(7000, 181833) (3000, 181833)\n"
     ]
    }
   ],
   "source": [
    "tdata=tfidf.fit_transform(x_1)\n",
    "test_data=tfidf.transform(x_test)\n",
    "print(tdata.shape,test_data.shape)"
   ]
  },
  {
   "cell_type": "code",
   "execution_count": 103,
   "metadata": {},
   "outputs": [
    {
     "data": {
      "text/plain": [
       "(7000, 1500)"
      ]
     },
     "execution_count": 103,
     "metadata": {},
     "output_type": "execute_result"
    }
   ],
   "source": [
    "#reducing the dimensionality to 5\n",
    "T=TruncatedSVD(1500)\n",
    "tdata=T.fit_transform(tdata)\n",
    "tdata.shape"
   ]
  },
  {
   "cell_type": "code",
   "execution_count": 104,
   "metadata": {},
   "outputs": [
    {
     "name": "stdout",
     "output_type": "stream",
     "text": [
      "0.41182636359860186\n"
     ]
    }
   ],
   "source": [
    "print(T.explained_variance_ratio_.sum())"
   ]
  },
  {
   "cell_type": "code",
   "execution_count": 105,
   "metadata": {},
   "outputs": [
    {
     "data": {
      "text/plain": [
       "(3000, 1500)"
      ]
     },
     "execution_count": 105,
     "metadata": {},
     "output_type": "execute_result"
    }
   ],
   "source": [
    "test_data=T.transform(test_data)\n",
    "test_data.shape"
   ]
  },
  {
   "cell_type": "code",
   "execution_count": 106,
   "metadata": {},
   "outputs": [
    {
     "name": "stdout",
     "output_type": "stream",
     "text": [
      "Best HyperParameter:  {'n_neighbors': 7}\n",
      "Best Accuracy: 80.55%\n",
      "best estimator:  KNeighborsClassifier(algorithm='kd_tree', leaf_size=30, metric='minkowski',\n",
      "           metric_params=None, n_jobs=1, n_neighbors=5, p=2,\n",
      "           weights='uniform')\n",
      "the accuracy is 79.77%\n",
      "Wall time: 1h 24min 40s\n"
     ]
    },
    {
     "data": {
      "image/png": "[encoded data removed]",
      "text/plain": [
       "<Figure size 432x288 with 2 Axes>"
      ]
     },
     "metadata": {},
     "output_type": "display_data"
    }
   ],
   "source": [
    "%%time\n",
    "#kd_tree with high dimensionality\n",
    "kmain(tdata,y_1,test_data,y_test)"
   ]
  },
  {
   "cell_type": "code",
   "execution_count": 90,
   "metadata": {},
   "outputs": [
    {
     "data": {
      "text/plain": [
       "(7000, 5)"
      ]
     },
     "execution_count": 90,
     "metadata": {},
     "output_type": "execute_result"
    }
   ],
   "source": [
    "#reducing the dimensionality to 5\n",
    "T=TruncatedSVD(5)\n",
    "tdata=T.fit_transform(tdata)\n",
    "tdata.shape"
   ]
  },
  {
   "cell_type": "code",
   "execution_count": 91,
   "metadata": {},
   "outputs": [
    {
     "data": {
      "text/plain": [
       "(3000, 5)"
      ]
     },
     "execution_count": 91,
     "metadata": {},
     "output_type": "execute_result"
    }
   ],
   "source": [
    "test_data=T.transform(test_data)\n",
    "test_data.shape"
   ]
  },
  {
   "cell_type": "code",
   "execution_count": 93,
   "metadata": {},
   "outputs": [
    {
     "name": "stdout",
     "output_type": "stream",
     "text": [
      "Best HyperParameter:  {'n_neighbors': 21}\n",
      "Best Accuracy: 79.40%\n",
      "best estimator:  KNeighborsClassifier(algorithm='kd_tree', leaf_size=30, metric='minkowski',\n",
      "           metric_params=None, n_jobs=1, n_neighbors=5, p=2,\n",
      "           weights='uniform')\n",
      "the accuracy is 75.23%\n",
      "Wall time: 7.8 s\n"
     ]
    },
    {
     "data": {
      "image/png": "[encoded data removed]",
      "text/plain": [
       "<Figure size 432x288 with 2 Axes>"
      ]
     },
     "metadata": {},
     "output_type": "display_data"
    }
   ],
   "source": [
    "%%time\n",
    "#kd_tree with small dimensionality\n",
    "kmain(tdata,y_1,test_data,y_test)"
   ]
  },
  {
   "cell_type": "markdown",
   "metadata": {},
   "source": [
    "Summary:\n",
    "    <br>brute force : accuracy is 85.43 and TP is also high \n",
    "    <br>kd_tree : with high dimension we got accuray as 80.55% and small dimension gave 79.40% but the thing to notice is that kd_tree with high dimension takes a lot of time than with smaller dimension."
   ]
  },
  {
   "cell_type": "markdown",
   "metadata": {},
   "source": [
    "# Word2Vec"
   ]
  },
  {
   "cell_type": "code",
   "execution_count": 62,
   "metadata": {},
   "outputs": [
    {
     "name": "stderr",
     "output_type": "stream",
     "text": [
      "C:\\Users\\himateja\\Anaconda3\\lib\\site-packages\\gensim\\utils.py:1209: UserWarning: detected Windows; aliasing chunkize to chunkize_serial\n",
      "  warnings.warn(\"detected Windows; aliasing chunkize to chunkize_serial\")\n"
     ]
    }
   ],
   "source": [
    "from gensim.models import Word2Vec\n",
    "#making list of sentences\n",
    "import string\n",
    "i=0\n",
    "list_s=[]\n",
    "for s in d.Text.values:\n",
    "    filtered=[]\n",
    "    s=cleanhtml(s)\n",
    "    for w in s.split():\n",
    "        for c_w in cleanpunc(w).split():\n",
    "            if c_w.isalpha():\n",
    "                filtered.append(c_w.lower())\n",
    "            else:\n",
    "                continue\n",
    "    list_s.append(filtered)\n",
    "#training our own model\n",
    "w2v_model=Word2Vec(list_s,min_count=5,size=50,workers=4)"
   ]
  },
  {
   "cell_type": "markdown",
   "metadata": {},
   "source": [
    "# Average word2vec"
   ]
  },
  {
   "cell_type": "code",
   "execution_count": 78,
   "metadata": {},
   "outputs": [
    {
     "name": "stdout",
     "output_type": "stream",
     "text": [
      "20000\n",
      "50\n"
     ]
    }
   ],
   "source": [
    "#creating avg word2vec\n",
    "sv=[]\n",
    "for s in list_s:\n",
    "    sum=np.zeros(50)\n",
    "    i=0\n",
    "    for w in s:\n",
    "        try:\n",
    "            \n",
    "            x=w2v_model.wv[w]\n",
    "            sum+=x\n",
    "            i+=1\n",
    "        except:\n",
    "            pass\n",
    "    sum/=i\n",
    "    sv.append(sum)\n",
    "    \n",
    "#cheking the dimension\n",
    "print(len(sv))\n",
    "print(len(sv[0]))"
   ]
  },
  {
   "cell_type": "code",
   "execution_count": 79,
   "metadata": {},
   "outputs": [],
   "source": [
    "x=np.asarray(sv)\n",
    "y=d.Score"
   ]
  },
  {
   "cell_type": "markdown",
   "metadata": {},
   "source": [
    "brute force algorithm"
   ]
  },
  {
   "cell_type": "code",
   "execution_count": 80,
   "metadata": {},
   "outputs": [],
   "source": [
    "x_1, x_test, y_1, y_test = train_test_split(x, y, test_size=0.3, random_state=0,shuffle=False)\n",
    "\n",
    "#x_tr, x_cv, y_tr, y_cv = train_test_split(x_1, y_1, test_size=0.3)"
   ]
  },
  {
   "cell_type": "code",
   "execution_count": 81,
   "metadata": {},
   "outputs": [
    {
     "name": "stdout",
     "output_type": "stream",
     "text": [
      "Best HyperParameter:  {'n_neighbors': 11}\n",
      "Best Accuracy: 85.36%\n",
      "best estimator:  KNeighborsClassifier(algorithm='brute', leaf_size=30, metric='minkowski',\n",
      "           metric_params=None, n_jobs=1, n_neighbors=5, p=2,\n",
      "           weights='uniform')\n",
      "the accuracy is 83.77%\n",
      "Wall time: 3min 5s\n"
     ]
    },
    {
     "data": {
      "image/png": "[encoded data removed]",
      "text/plain": [
       "<Figure size 432x288 with 2 Axes>"
      ]
     },
     "metadata": {},
     "output_type": "display_data"
    }
   ],
   "source": [
    "%%time\n",
    "main(x_1,y_1,x_test,y_test)"
   ]
  },
  {
   "cell_type": "markdown",
   "metadata": {},
   "source": [
    "kd_tree algorithm"
   ]
  },
  {
   "cell_type": "code",
   "execution_count": 82,
   "metadata": {},
   "outputs": [
    {
     "name": "stdout",
     "output_type": "stream",
     "text": [
      "Best HyperParameter:  {'n_neighbors': 11}\n",
      "Best Accuracy: 85.36%\n",
      "best estimator:  KNeighborsClassifier(algorithm='kd_tree', leaf_size=30, metric='minkowski',\n",
      "           metric_params=None, n_jobs=1, n_neighbors=5, p=2,\n",
      "           weights='uniform')\n",
      "the accuracy is 83.77%\n",
      "Wall time: 11min 36s\n"
     ]
    },
    {
     "data": {
      "image/png": "[encoded data removed]",
      "text/plain": [
       "<Figure size 432x288 with 2 Axes>"
      ]
     },
     "metadata": {},
     "output_type": "display_data"
    }
   ],
   "source": [
    "%%time\n",
    "kmain(x_1,y_1,x_test,y_test)"
   ]
  },
  {
   "cell_type": "markdown",
   "metadata": {},
   "source": [
    "Summary:\n",
    "    <br>brute force : accuracy is 85.36 and TP is also high .\n",
    "    <br>kd_tree : with high dimension we got accuray as 85.36% ."
   ]
  },
  {
   "cell_type": "markdown",
   "metadata": {},
   "source": [
    "# Tfidf word2vec"
   ]
  },
  {
   "cell_type": "code",
   "execution_count": 68,
   "metadata": {},
   "outputs": [
    {
     "name": "stderr",
     "output_type": "stream",
     "text": [
      "C:\\Users\\himateja\\Anaconda3\\lib\\site-packages\\ipykernel_launcher.py:16: RuntimeWarning: invalid value encountered in true_divide\n",
      "  app.launch_new_instance()\n"
     ]
    }
   ],
   "source": [
    "tfidf_feat = tfidf.get_feature_names()\n",
    "tf=tfidf.fit_transform(d.Text.values)\n",
    "tfidfsv = []\n",
    "row=0;\n",
    "for s in list_s: \n",
    "    sum = np.zeros(50) \n",
    "    i=0; \n",
    "    for word in s: \n",
    "        try:\n",
    "            vec = w2v_model.wv[word]\n",
    "            tf_idf = tf[row, tfidf_feat.index(word)]\n",
    "            sum += (vec * tf_idf)\n",
    "            i += tf_idf\n",
    "        except:\n",
    "            pass\n",
    "    sum /= i\n",
    "    tfidfsv.append(sum)\n",
    "    row += 1"
   ]
  },
  {
   "cell_type": "code",
   "execution_count": 70,
   "metadata": {},
   "outputs": [
    {
     "data": {
      "text/plain": [
       "array([[nan, nan, nan, ..., nan, nan, nan],\n",
       "       [nan, nan, nan, ..., nan, nan, nan],\n",
       "       [nan, nan, nan, ..., nan, nan, nan],\n",
       "       ...,\n",
       "       [nan, nan, nan, ..., nan, nan, nan],\n",
       "       [nan, nan, nan, ..., nan, nan, nan],\n",
       "       [nan, nan, nan, ..., nan, nan, nan]])"
      ]
     },
     "execution_count": 70,
     "metadata": {},
     "output_type": "execute_result"
    }
   ],
   "source": [
    "x=np.asarray(tfidfsv)\n",
    "y=d.Score\n",
    "x"
   ]
  },
  {
   "cell_type": "markdown",
   "metadata": {},
   "source": [
    "brute force algorithm"
   ]
  },
  {
   "cell_type": "code",
   "execution_count": 71,
   "metadata": {},
   "outputs": [],
   "source": [
    "#splitting of the data\n",
    "x_1, x_test, y_1, y_test = train_test_split(x, y, test_size=0.3,shuffle=False)\n",
    "\n",
    "#x_tr, x_cv, y_tr, y_cv = train_test_split(x_1, y_1, test_size=0.3)"
   ]
  },
  {
   "cell_type": "markdown",
   "metadata": {},
   "source": [
    "The 'x' array has 'NaN' values we have to change them ."
   ]
  },
  {
   "cell_type": "code",
   "execution_count": 72,
   "metadata": {},
   "outputs": [
    {
     "data": {
      "text/plain": [
       "array([[ True,  True,  True, ...,  True,  True,  True],\n",
       "       [ True,  True,  True, ...,  True,  True,  True],\n",
       "       [ True,  True,  True, ...,  True,  True,  True],\n",
       "       ...,\n",
       "       [ True,  True,  True, ...,  True,  True,  True],\n",
       "       [ True,  True,  True, ...,  True,  True,  True],\n",
       "       [ True,  True,  True, ...,  True,  True,  True]])"
      ]
     },
     "execution_count": 72,
     "metadata": {},
     "output_type": "execute_result"
    }
   ],
   "source": [
    "# changing 'NaN' to numeric value\n",
    "x_1=np.isnan(x_1)\n",
    "np.where(np.isnan(x_1))\n",
    "np.nan_to_num(x_1)\n",
    "\n",
    "x_test=np.isnan(x_test)\n",
    "np.where(np.isnan(x_test))\n",
    "np.nan_to_num(x_test)"
   ]
  },
  {
   "cell_type": "code",
   "execution_count": 76,
   "metadata": {},
   "outputs": [
    {
     "name": "stdout",
     "output_type": "stream",
     "text": [
      "Best HyperParameter:  {'n_neighbors': 1}\n",
      "Best Accuracy: 84.56%\n",
      "best estimator:  KNeighborsClassifier(algorithm='brute', leaf_size=30, metric='minkowski',\n",
      "           metric_params=None, n_jobs=1, n_neighbors=5, p=2,\n",
      "           weights='uniform')\n",
      "the accuracy is 83.88%\n",
      "Wall time: 2min 27s\n"
     ]
    },
    {
     "data": {
      "image/png": "[encoded data removed]",
      "text/plain": [
       "<Figure size 432x288 with 2 Axes>"
      ]
     },
     "metadata": {},
     "output_type": "display_data"
    }
   ],
   "source": [
    "%%time\n",
    "main(x_1,y_1,x_test,y_test)"
   ]
  },
  {
   "cell_type": "markdown",
   "metadata": {},
   "source": [
    "kd_tree algorithm"
   ]
  },
  {
   "cell_type": "code",
   "execution_count": 77,
   "metadata": {},
   "outputs": [
    {
     "name": "stdout",
     "output_type": "stream",
     "text": [
      "Best HyperParameter:  {'n_neighbors': 5}\n",
      "Best Accuracy: 84.56%\n",
      "best estimator:  KNeighborsClassifier(algorithm='kd_tree', leaf_size=30, metric='minkowski',\n",
      "           metric_params=None, n_jobs=1, n_neighbors=5, p=2,\n",
      "           weights='uniform')\n",
      "the accuracy is 83.88%\n",
      "Wall time: 8min 50s\n"
     ]
    },
    {
     "data": {
      "image/png": "[encoded data removed]",
      "text/plain": [
       "<Figure size 432x288 with 2 Axes>"
      ]
     },
     "metadata": {},
     "output_type": "display_data"
    }
   ],
   "source": [
    "%%time\n",
    "kmain(x_1,y_1,x_test,y_test)"
   ]
  },
  {
   "cell_type": "markdown",
   "metadata": {},
   "source": [
    "Summary:\n",
    "    <br>brute force : accuracy is 83.88 and TP is also high .\n",
    "    <br>kd_tree : with high dimension we got accuray as 83.88% ."
   ]
  },
  {
   "cell_type": "markdown",
   "metadata": {},
   "source": [
    "# Conclusion :\n",
    "<br>brute force\n",
    "<br>accuracy:\n",
    "<br>bag of words : 84.62%\n",
    "<br>tfidf        :85.43%\n",
    "<br>avg word2vec :85.36%\n",
    "<br>tfidf word2vec:83.88%\n",
    "<br><br>the accuracy are good and even the TP of confusion matrix are high.so the model are doing good.\n"
   ]
  },
  {
   "cell_type": "markdown",
   "metadata": {},
   "source": [
    "kd_tree:<br>\n",
    "<br>bagofwords:<br>\n",
    "time for 1500 dimension =  1h 32min 21s<br>\n",
    "time for 5 dimension = 7.73s\n",
    "<br><br>\n",
    "tfidf:<br>\n",
    "time for 1500 dimension = 1h 24min 40s<br>\n",
    "time for 5 dimension = 7.8s"
   ]
  },
  {
   "cell_type": "markdown",
   "metadata": {},
   "source": [
    "<br>1.The more the data ,more will be the accuracy.\n",
    "<br>2.you cannot pass sparse matrix to the kdtree.\n",
    "<br>3.kd_tree works well with only when dimensionality is small.\n",
    "<br>4.doing cross validation can increase your train data which increases your accuracy as we know more the data more is the accuracy."
   ]
  },
  {
   "cell_type": "code",
   "execution_count": null,
   "metadata": {},
   "outputs": [],
   "source": []
  }
 ],
 "metadata": {
  "kernelspec": {
   "display_name": "Python 3",
   "language": "python",
   "name": "python3"
  },
  "language_info": {
   "codemirror_mode": {
    "name": "ipython",
    "version": 3
   },
   "file_extension": ".py",
   "mimetype": "text/x-python",
   "name": "python",
   "nbconvert_exporter": "python",
   "pygments_lexer": "ipython3",
   "version": "3.6.5"
  }
 },
 "nbformat": 4,
 "nbformat_minor": 2
}
